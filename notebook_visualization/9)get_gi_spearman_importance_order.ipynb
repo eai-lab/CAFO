{
 "cells": [
  {
   "cell_type": "code",
   "execution_count": 1,
   "metadata": {},
   "outputs": [],
   "source": [
    "import pandas as pd\n",
    "import numpy as np\n",
    "import os\n",
    "import csv\n",
    "import pickle\n",
    "import glob\n",
    "from itertools import combinations\n",
    "from collections import defaultdict\n",
    "from random import sample\n",
    "import random\n",
    "import seaborn as sns\n",
    "import matplotlib.pyplot as plt\n",
    "# import spearmanr\n",
    "from scipy.stats import spearmanr, kendalltau"
   ]
  },
  {
   "cell_type": "code",
   "execution_count": 2,
   "metadata": {},
   "outputs": [],
   "source": [
    "def collect_base_importance(exp_num, task='gilon_activity'):\n",
    "    base_file_dirs = glob.glob(f\"dataset/spearman_base_results/{task}/EXP{exp_num}/test_*/channel_test_attention_scores.csv\")\n",
    "    base_file_dirs.sort()\n",
    "\n",
    "    base_importance_order = []\n",
    "    for file_dir in base_file_dirs:\n",
    "        file = pd.read_csv(file_dir).iloc[:,:-1]\n",
    "        file = file.mean(axis=0)\n",
    "        # get the importance idx of each channel\n",
    "        base_importance_order.append(file.sort_values(ascending=False).index.tolist())\n",
    "    return base_importance_order"
   ]
  },
  {
   "cell_type": "code",
   "execution_count": 3,
   "metadata": {},
   "outputs": [],
   "source": [
    "shufflenet_gilon = collect_base_importance(1100)\n",
    "resnet_gilon = collect_base_importance(1300)\n",
    "mlpmixer_gilon = collect_base_importance(1500)\n",
    "vit_gilon = collect_base_importance(1700)"
   ]
  },
  {
   "cell_type": "code",
   "execution_count": 4,
   "metadata": {},
   "outputs": [],
   "source": [
    "shufflenet_qr_gilon = collect_base_importance(1200)\n",
    "resnet_qr_gilon = collect_base_importance(1400)\n",
    "mlpmixer_qr_gilon = collect_base_importance(1600)\n",
    "vit_qr_gilon = collect_base_importance(1800)"
   ]
  },
  {
   "cell_type": "code",
   "execution_count": 5,
   "metadata": {},
   "outputs": [],
   "source": [
    "# calculate the spearmanr of each model\n",
    "def get_spearmanr(model_list):\n",
    "    spearman_matrix = np.zeros((len(model_list), len(model_list)))\n",
    "    for i in range(len(model_list)):\n",
    "        for j in range(len(model_list)):\n",
    "            spearman_matrix[i][j] = spearmanr(model_list[i], model_list[j])[0]\n",
    "    # get only the upper triangle\n",
    "    spearman_matrix = np.triu(spearman_matrix, k=1)\n",
    "    # get mean and std\n",
    "    mean = np.mean(spearman_matrix[spearman_matrix!=0])\n",
    "    std = np.std(spearman_matrix[spearman_matrix!=0])\n",
    "    return [mean, std]"
   ]
  },
  {
   "cell_type": "code",
   "execution_count": 6,
   "metadata": {},
   "outputs": [],
   "source": [
    "def get_kendalltau(model_list):\n",
    "    kendall_matrix = np.zeros((len(model_list), len(model_list)))\n",
    "    for i in range(len(model_list)):\n",
    "        for j in range(len(model_list)):\n",
    "            kendall_matrix[i][j] = kendalltau(model_list[i], model_list[j])[0]\n",
    "    # get only the upper triangle\n",
    "    kendall_matrix = np.triu(kendall_matrix, k=1)\n",
    "    # get mean and std\n",
    "    mean = np.mean(kendall_matrix[kendall_matrix!=0])\n",
    "    std = np.std(kendall_matrix[kendall_matrix!=0])\n",
    "    return [mean, std]"
   ]
  },
  {
   "cell_type": "code",
   "execution_count": 7,
   "metadata": {},
   "outputs": [],
   "source": [
    "def calculate_spearmanr_mean_std(model_list):\n",
    "    spearmanr_list = []\n",
    "    for model in model_list:\n",
    "        spearmanr_list.append(get_spearmanr(model))\n",
    "    return pd.DataFrame(spearmanr_list, columns=['mean', 'std'], index=['shufflenet', 'resnet', 'mlpmixer', 'vit'])"
   ]
  },
  {
   "cell_type": "code",
   "execution_count": 8,
   "metadata": {},
   "outputs": [],
   "source": [
    "def calculate_kendalltau_mean_std(model_list):\n",
    "    kendalltau_list = []\n",
    "    for model in model_list:\n",
    "        kendalltau_list.append(get_kendalltau(model))\n",
    "    return pd.DataFrame(kendalltau_list, columns=['mean', 'std'], index=['shufflenet', 'resnet', 'mlpmixer', 'vit'])"
   ]
  },
  {
   "cell_type": "code",
   "execution_count": 9,
   "metadata": {},
   "outputs": [
    {
     "name": "stderr",
     "output_type": "stream",
     "text": [
      "/root/miniconda3/envs/vit/lib/python3.9/site-packages/scipy/stats/_stats_py.py:110: RuntimeWarning: The input array could not be properly checked for nan values. nan values will be ignored.\n",
      "  warnings.warn(\"The input array could not be properly \"\n"
     ]
    },
    {
     "data": {
      "text/html": [
       "<div>\n",
       "<style scoped>\n",
       "    .dataframe tbody tr th:only-of-type {\n",
       "        vertical-align: middle;\n",
       "    }\n",
       "\n",
       "    .dataframe tbody tr th {\n",
       "        vertical-align: top;\n",
       "    }\n",
       "\n",
       "    .dataframe thead th {\n",
       "        text-align: right;\n",
       "    }\n",
       "</style>\n",
       "<table border=\"1\" class=\"dataframe\">\n",
       "  <thead>\n",
       "    <tr style=\"text-align: right;\">\n",
       "      <th></th>\n",
       "      <th>mean</th>\n",
       "      <th>std</th>\n",
       "    </tr>\n",
       "  </thead>\n",
       "  <tbody>\n",
       "    <tr>\n",
       "      <th>shufflenet</th>\n",
       "      <td>0.207033</td>\n",
       "      <td>0.230341</td>\n",
       "    </tr>\n",
       "    <tr>\n",
       "      <th>resnet</th>\n",
       "      <td>0.370549</td>\n",
       "      <td>0.248884</td>\n",
       "    </tr>\n",
       "    <tr>\n",
       "      <th>mlpmixer</th>\n",
       "      <td>0.330549</td>\n",
       "      <td>0.236311</td>\n",
       "    </tr>\n",
       "    <tr>\n",
       "      <th>vit</th>\n",
       "      <td>0.407033</td>\n",
       "      <td>0.125108</td>\n",
       "    </tr>\n",
       "  </tbody>\n",
       "</table>\n",
       "</div>"
      ],
      "text/plain": [
       "                mean       std\n",
       "shufflenet  0.207033  0.230341\n",
       "resnet      0.370549  0.248884\n",
       "mlpmixer    0.330549  0.236311\n",
       "vit         0.407033  0.125108"
      ]
     },
     "execution_count": 9,
     "metadata": {},
     "output_type": "execute_result"
    }
   ],
   "source": [
    "calculate_spearmanr_mean_std([shufflenet_gilon, resnet_gilon, mlpmixer_gilon, vit_gilon])"
   ]
  },
  {
   "cell_type": "code",
   "execution_count": 10,
   "metadata": {},
   "outputs": [
    {
     "name": "stderr",
     "output_type": "stream",
     "text": [
      "/root/miniconda3/envs/vit/lib/python3.9/site-packages/scipy/stats/_stats_py.py:110: RuntimeWarning: The input array could not be properly checked for nan values. nan values will be ignored.\n",
      "  warnings.warn(\"The input array could not be properly \"\n"
     ]
    },
    {
     "data": {
      "text/html": [
       "<div>\n",
       "<style scoped>\n",
       "    .dataframe tbody tr th:only-of-type {\n",
       "        vertical-align: middle;\n",
       "    }\n",
       "\n",
       "    .dataframe tbody tr th {\n",
       "        vertical-align: top;\n",
       "    }\n",
       "\n",
       "    .dataframe thead th {\n",
       "        text-align: right;\n",
       "    }\n",
       "</style>\n",
       "<table border=\"1\" class=\"dataframe\">\n",
       "  <thead>\n",
       "    <tr style=\"text-align: right;\">\n",
       "      <th></th>\n",
       "      <th>mean</th>\n",
       "      <th>std</th>\n",
       "    </tr>\n",
       "  </thead>\n",
       "  <tbody>\n",
       "    <tr>\n",
       "      <th>shufflenet</th>\n",
       "      <td>0.352527</td>\n",
       "      <td>0.262024</td>\n",
       "    </tr>\n",
       "    <tr>\n",
       "      <th>resnet</th>\n",
       "      <td>0.581538</td>\n",
       "      <td>0.129634</td>\n",
       "    </tr>\n",
       "    <tr>\n",
       "      <th>mlpmixer</th>\n",
       "      <td>0.165714</td>\n",
       "      <td>0.366266</td>\n",
       "    </tr>\n",
       "    <tr>\n",
       "      <th>vit</th>\n",
       "      <td>0.502418</td>\n",
       "      <td>0.169077</td>\n",
       "    </tr>\n",
       "  </tbody>\n",
       "</table>\n",
       "</div>"
      ],
      "text/plain": [
       "                mean       std\n",
       "shufflenet  0.352527  0.262024\n",
       "resnet      0.581538  0.129634\n",
       "mlpmixer    0.165714  0.366266\n",
       "vit         0.502418  0.169077"
      ]
     },
     "execution_count": 10,
     "metadata": {},
     "output_type": "execute_result"
    }
   ],
   "source": [
    "calculate_spearmanr_mean_std([shufflenet_qr_gilon, resnet_qr_gilon, mlpmixer_qr_gilon, vit_qr_gilon])"
   ]
  },
  {
   "cell_type": "code",
   "execution_count": 11,
   "metadata": {},
   "outputs": [
    {
     "name": "stderr",
     "output_type": "stream",
     "text": [
      "/root/miniconda3/envs/vit/lib/python3.9/site-packages/scipy/stats/_stats_py.py:110: RuntimeWarning: The input array could not be properly checked for nan values. nan values will be ignored.\n",
      "  warnings.warn(\"The input array could not be properly \"\n"
     ]
    },
    {
     "data": {
      "text/html": [
       "<div>\n",
       "<style scoped>\n",
       "    .dataframe tbody tr th:only-of-type {\n",
       "        vertical-align: middle;\n",
       "    }\n",
       "\n",
       "    .dataframe tbody tr th {\n",
       "        vertical-align: top;\n",
       "    }\n",
       "\n",
       "    .dataframe thead th {\n",
       "        text-align: right;\n",
       "    }\n",
       "</style>\n",
       "<table border=\"1\" class=\"dataframe\">\n",
       "  <thead>\n",
       "    <tr style=\"text-align: right;\">\n",
       "      <th></th>\n",
       "      <th>mean</th>\n",
       "      <th>std</th>\n",
       "    </tr>\n",
       "  </thead>\n",
       "  <tbody>\n",
       "    <tr>\n",
       "      <th>shufflenet</th>\n",
       "      <td>0.142857</td>\n",
       "      <td>0.182563</td>\n",
       "    </tr>\n",
       "    <tr>\n",
       "      <th>resnet</th>\n",
       "      <td>0.270330</td>\n",
       "      <td>0.208224</td>\n",
       "    </tr>\n",
       "    <tr>\n",
       "      <th>mlpmixer</th>\n",
       "      <td>0.239560</td>\n",
       "      <td>0.202198</td>\n",
       "    </tr>\n",
       "    <tr>\n",
       "      <th>vit</th>\n",
       "      <td>0.292308</td>\n",
       "      <td>0.107130</td>\n",
       "    </tr>\n",
       "  </tbody>\n",
       "</table>\n",
       "</div>"
      ],
      "text/plain": [
       "                mean       std\n",
       "shufflenet  0.142857  0.182563\n",
       "resnet      0.270330  0.208224\n",
       "mlpmixer    0.239560  0.202198\n",
       "vit         0.292308  0.107130"
      ]
     },
     "execution_count": 11,
     "metadata": {},
     "output_type": "execute_result"
    }
   ],
   "source": [
    "calculate_kendalltau_mean_std([shufflenet_gilon, resnet_gilon, mlpmixer_gilon, vit_gilon])"
   ]
  },
  {
   "cell_type": "code",
   "execution_count": 12,
   "metadata": {},
   "outputs": [
    {
     "name": "stderr",
     "output_type": "stream",
     "text": [
      "/root/miniconda3/envs/vit/lib/python3.9/site-packages/scipy/stats/_stats_py.py:110: RuntimeWarning: The input array could not be properly checked for nan values. nan values will be ignored.\n",
      "  warnings.warn(\"The input array could not be properly \"\n"
     ]
    },
    {
     "data": {
      "text/html": [
       "<div>\n",
       "<style scoped>\n",
       "    .dataframe tbody tr th:only-of-type {\n",
       "        vertical-align: middle;\n",
       "    }\n",
       "\n",
       "    .dataframe tbody tr th {\n",
       "        vertical-align: top;\n",
       "    }\n",
       "\n",
       "    .dataframe thead th {\n",
       "        text-align: right;\n",
       "    }\n",
       "</style>\n",
       "<table border=\"1\" class=\"dataframe\">\n",
       "  <thead>\n",
       "    <tr style=\"text-align: right;\">\n",
       "      <th></th>\n",
       "      <th>mean</th>\n",
       "      <th>std</th>\n",
       "    </tr>\n",
       "  </thead>\n",
       "  <tbody>\n",
       "    <tr>\n",
       "      <th>shufflenet</th>\n",
       "      <td>0.270330</td>\n",
       "      <td>0.218855</td>\n",
       "    </tr>\n",
       "    <tr>\n",
       "      <th>resnet</th>\n",
       "      <td>0.441758</td>\n",
       "      <td>0.112153</td>\n",
       "    </tr>\n",
       "    <tr>\n",
       "      <th>mlpmixer</th>\n",
       "      <td>0.129670</td>\n",
       "      <td>0.285579</td>\n",
       "    </tr>\n",
       "    <tr>\n",
       "      <th>vit</th>\n",
       "      <td>0.389011</td>\n",
       "      <td>0.138584</td>\n",
       "    </tr>\n",
       "  </tbody>\n",
       "</table>\n",
       "</div>"
      ],
      "text/plain": [
       "                mean       std\n",
       "shufflenet  0.270330  0.218855\n",
       "resnet      0.441758  0.112153\n",
       "mlpmixer    0.129670  0.285579\n",
       "vit         0.389011  0.138584"
      ]
     },
     "execution_count": 12,
     "metadata": {},
     "output_type": "execute_result"
    }
   ],
   "source": [
    "calculate_kendalltau_mean_std([shufflenet_qr_gilon, resnet_qr_gilon, mlpmixer_qr_gilon, vit_qr_gilon])"
   ]
  },
  {
   "cell_type": "code",
   "execution_count": 13,
   "metadata": {},
   "outputs": [],
   "source": [
    "# combine all lists\n",
    "all_importance_order = shufflenet_gilon + resnet_gilon + mlpmixer_gilon + vit_gilon\n",
    "all_importance_qr_order = shufflenet_qr_gilon + resnet_qr_gilon + mlpmixer_qr_gilon + vit_qr_gilon"
   ]
  },
  {
   "cell_type": "code",
   "execution_count": 14,
   "metadata": {},
   "outputs": [],
   "source": [
    "def calculate_spearman(order):\n",
    "    spearman = []\n",
    "    for i in range(len(order)):\n",
    "        for j in range(len(order)):\n",
    "            spearman.append(spearmanr(order[i], order[j])[0])\n",
    "    reshaped_spearman = np.array(spearman).reshape(len(order), len(order))\n",
    "    return reshaped_spearman"
   ]
  },
  {
   "cell_type": "code",
   "execution_count": 15,
   "metadata": {},
   "outputs": [],
   "source": [
    "def make_heatmap(spearman_list, color_bar=True, save_name=None):\n",
    "    # plot the heatmap. blue for positive, red for negative\n",
    "    plt.figure(figsize=(10,10))\n",
    "    # rotate colorbar label\n",
    "    if color_bar:\n",
    "        sns.heatmap(spearman_list, cmap='RdBu_r', vmin=-1, vmax=1, center=0, square=True, linewidths=.5, \n",
    "                    cbar_kws={\"shrink\": .5, \"ticks\":[-1, -0.5, 0, 0.5, 1], \"label\": \"Spearmanr\", \"fraction\":0.1})\n",
    "        cbar = plt.gcf().axes[-1]\n",
    "        cbar.yaxis.set_ticks_position('left')\n",
    "        cbar.yaxis.set_label_position('right')\n",
    "        cbar.set_yticklabels(['-1', '-0.5', '0', '0.5', '1'], fontsize=12)\n",
    "        cbar.set_ylabel('Spearmanr', rotation=270, labelpad=20, fontsize=15)\n",
    "        # set larger colorbar size\n",
    "        cbar.set_position([.85, .11, .03, .77])\n",
    "    else:\n",
    "        sns.heatmap(spearman_list, cmap='RdBu_r', vmin=-1, vmax=1, center=0, square=True, linewidths=.5, cbar=False)\n",
    "\n",
    "    # manually set each cell to have 0.1 width and 0.2 height\n",
    "    plt.gca().set_aspect('equal', adjustable='box')\n",
    "    plt.gca().set_position([0.1, 0.1, 0.7, 0.7])\n",
    "    \n",
    "\n",
    "    linewidth =7 \n",
    "    # make extra whitespace between 5 and 6\n",
    "    plt.axvline(x=5, color='white', linewidth=linewidth)\n",
    "    plt.axhline(y=5, color='white', linewidth=linewidth)\n",
    "    plt.axvline(x=10, color='white', linewidth=linewidth)\n",
    "    plt.axhline(y=10, color='white', linewidth=linewidth)\n",
    "    plt.axvline(x=15, color='white', linewidth=linewidth)\n",
    "    plt.axhline(y=15, color='white', linewidth=linewidth)\n",
    "    plt.axvline(x=20, color='white', linewidth=linewidth)\n",
    "    plt.axhline(y=20, color='white', linewidth=linewidth)\n",
    "    # remove the ticks\n",
    "    plt.xticks([])\n",
    "    plt.yticks([])\n",
    "    # place 'Shufflenet', 'Resnet', 'MLPMixer', 'ViT' as x and y ticks\n",
    "    # set to dark grey\n",
    "    plt.yticks([2.5, 7.5, 12.5, 17.5,], ['Shufflenet', 'Resnet', 'MLPMixer', 'ViT'], fontsize=22, fontweight='bold', color='#41403F')\n",
    "    # place x ticks on top\n",
    "    plt.tick_params(axis='x', which='both', top=True, bottom=False, labeltop=True, labelbottom=False)\n",
    "    plt.xticks([2.5, 7.5, 12.5, 17.5,], ['Shufflenet', 'Resnet', 'MLPMixer', 'ViT'], fontsize=22, fontweight='bold', color='#41403F')\n",
    "\n",
    "    if save_name:\n",
    "        plt.savefig(f\"results/spearman/{save_name}.png\", dpi=300, bbox_inches='tight')"
   ]
  },
  {
   "cell_type": "code",
   "execution_count": 16,
   "metadata": {},
   "outputs": [
    {
     "name": "stderr",
     "output_type": "stream",
     "text": [
      "/root/miniconda3/envs/vit/lib/python3.9/site-packages/scipy/stats/_stats_py.py:110: RuntimeWarning: The input array could not be properly checked for nan values. nan values will be ignored.\n",
      "  warnings.warn(\"The input array could not be properly \"\n"
     ]
    }
   ],
   "source": [
    "# calculate the spearmanr for every pair of importance order, plot them in a heatmap\n",
    "spearmanr_list = []\n",
    "for i in range(len(all_importance_order)):\n",
    "    for j in range(len(all_importance_order)):\n",
    "        spearmanr_list.append(spearmanr(all_importance_order[i], all_importance_order[j])[0])\n",
    "spearmanr_list = np.array(spearmanr_list).reshape(len(all_importance_order), len(all_importance_order))"
   ]
  },
  {
   "cell_type": "code",
   "execution_count": 17,
   "metadata": {},
   "outputs": [
    {
     "data": {
      "image/png": "[encoded data removed]",
      "text/plain": [
       "<Figure size 720x720 with 2 Axes>"
      ]
     },
     "metadata": {
      "needs_background": "light"
     },
     "output_type": "display_data"
    }
   ],
   "source": [
    "# plot the heatmap. blue for positive, red for negative\n",
    "plt.figure(figsize=(10,10))\n",
    "# rotate colorbar label\n",
    "sns.heatmap(spearmanr_list, cmap='RdBu_r', vmin=-1, vmax=1, center=0, square=True, linewidths=.5, \n",
    "            cbar_kws={\"shrink\": .5, \"ticks\":[-1, -0.5, 0, 0.5, 1], \"label\": \"Spearmanr\", \"fraction\":0.1})\n",
    "\n",
    "# get colorbar\n",
    "cbar = plt.gcf().axes[-1]\n",
    "cbar.yaxis.set_ticks_position('left')\n",
    "cbar.yaxis.set_label_position('right')\n",
    "# make bold\n",
    "cbar.set_yticklabels(['-1', '-0.5', '0', '0.5', '1'], fontsize=20, fontweight='bold')\n",
    "cbar.set_ylabel('Spearman Corr (\\u2191)', rotation=270, labelpad=40, fontsize=30, fontweight='bold')\n",
    "# set larger colorbar size\n",
    "cbar.set_position([.85, .11, .03, .77])\n",
    "# remove heatmap and leave only colorbar\n",
    "plt.gca().set_visible(False)\n",
    "# save \n",
    "plt.savefig(\"results/spearman/colorbar.png\", dpi=300, bbox_inches='tight')\n",
    "\n"
   ]
  },
  {
   "cell_type": "code",
   "execution_count": 18,
   "metadata": {},
   "outputs": [
    {
     "data": {
      "image/png": "[encoded data removed]",
      "text/plain": [
       "<Figure size 720x720 with 1 Axes>"
      ]
     },
     "metadata": {
      "needs_background": "light"
     },
     "output_type": "display_data"
    }
   ],
   "source": [
    "make_heatmap(spearmanr_list, False, save_name='GILON_without_QR')"
   ]
  },
  {
   "cell_type": "code",
   "execution_count": 19,
   "metadata": {},
   "outputs": [
    {
     "data": {
      "image/png": "[encoded data removed]",
      "text/plain": [
       "<Figure size 720x720 with 1 Axes>"
      ]
     },
     "metadata": {
      "needs_background": "light"
     },
     "output_type": "display_data"
    }
   ],
   "source": [
    "# calculate the spearmanr for every pair of importance order, plot them in a heatmap\n",
    "spearmanr_qr_list = []\n",
    "for i in range(len(all_importance_qr_order)):\n",
    "    for j in range(len(all_importance_qr_order)):\n",
    "        spearmanr_qr_list.append(spearmanr(all_importance_qr_order[i], all_importance_qr_order[j])[0])\n",
    "spearmanr_qr_list = np.array(spearmanr_qr_list).reshape(len(all_importance_qr_order), len(all_importance_qr_order))\n",
    "\n",
    "make_heatmap(spearmanr_qr_list, False, save_name='GILON_with_QR')\n"
   ]
  },
  {
   "cell_type": "code",
   "execution_count": 20,
   "metadata": {},
   "outputs": [],
   "source": [
    "shufflenet_ms = collect_base_importance(3100, task='microsoft_activity_new')\n",
    "resnet_ms = collect_base_importance(3300, task='microsoft_activity_new')\n",
    "mlpmixer_ms = collect_base_importance(3500, task='microsoft_activity_new')\n",
    "vit_ms = collect_base_importance(3700, task='microsoft_activity_new')\n",
    "\n",
    "shufflenet_ms_qr = collect_base_importance(3200, task='microsoft_activity_new')\n",
    "resnet_ms_qr = collect_base_importance(3400, task='microsoft_activity_new')\n",
    "mlpmixer_ms_qr = collect_base_importance(3600, task='microsoft_activity_new')\n",
    "vit_ms_qr = collect_base_importance(3800, task='microsoft_activity_new')"
   ]
  },
  {
   "cell_type": "code",
   "execution_count": 21,
   "metadata": {},
   "outputs": [
    {
     "name": "stderr",
     "output_type": "stream",
     "text": [
      "/root/miniconda3/envs/vit/lib/python3.9/site-packages/scipy/stats/_stats_py.py:110: RuntimeWarning: The input array could not be properly checked for nan values. nan values will be ignored.\n",
      "  warnings.warn(\"The input array could not be properly \"\n"
     ]
    },
    {
     "data": {
      "text/html": [
       "<div>\n",
       "<style scoped>\n",
       "    .dataframe tbody tr th:only-of-type {\n",
       "        vertical-align: middle;\n",
       "    }\n",
       "\n",
       "    .dataframe tbody tr th {\n",
       "        vertical-align: top;\n",
       "    }\n",
       "\n",
       "    .dataframe thead th {\n",
       "        text-align: right;\n",
       "    }\n",
       "</style>\n",
       "<table border=\"1\" class=\"dataframe\">\n",
       "  <thead>\n",
       "    <tr style=\"text-align: right;\">\n",
       "      <th></th>\n",
       "      <th>mean</th>\n",
       "      <th>std</th>\n",
       "    </tr>\n",
       "  </thead>\n",
       "  <tbody>\n",
       "    <tr>\n",
       "      <th>shufflenet</th>\n",
       "      <td>0.062857</td>\n",
       "      <td>0.502857</td>\n",
       "    </tr>\n",
       "    <tr>\n",
       "      <th>resnet</th>\n",
       "      <td>-0.062857</td>\n",
       "      <td>0.528193</td>\n",
       "    </tr>\n",
       "    <tr>\n",
       "      <th>mlpmixer</th>\n",
       "      <td>-0.142857</td>\n",
       "      <td>0.355022</td>\n",
       "    </tr>\n",
       "    <tr>\n",
       "      <th>vit</th>\n",
       "      <td>-0.097143</td>\n",
       "      <td>0.519843</td>\n",
       "    </tr>\n",
       "  </tbody>\n",
       "</table>\n",
       "</div>"
      ],
      "text/plain": [
       "                mean       std\n",
       "shufflenet  0.062857  0.502857\n",
       "resnet     -0.062857  0.528193\n",
       "mlpmixer   -0.142857  0.355022\n",
       "vit        -0.097143  0.519843"
      ]
     },
     "execution_count": 21,
     "metadata": {},
     "output_type": "execute_result"
    }
   ],
   "source": [
    "calculate_spearmanr_mean_std([shufflenet_ms, resnet_ms, mlpmixer_ms, vit_ms])"
   ]
  },
  {
   "cell_type": "code",
   "execution_count": 22,
   "metadata": {},
   "outputs": [
    {
     "name": "stderr",
     "output_type": "stream",
     "text": [
      "/root/miniconda3/envs/vit/lib/python3.9/site-packages/scipy/stats/_stats_py.py:110: RuntimeWarning: The input array could not be properly checked for nan values. nan values will be ignored.\n",
      "  warnings.warn(\"The input array could not be properly \"\n"
     ]
    },
    {
     "data": {
      "text/html": [
       "<div>\n",
       "<style scoped>\n",
       "    .dataframe tbody tr th:only-of-type {\n",
       "        vertical-align: middle;\n",
       "    }\n",
       "\n",
       "    .dataframe tbody tr th {\n",
       "        vertical-align: top;\n",
       "    }\n",
       "\n",
       "    .dataframe thead th {\n",
       "        text-align: right;\n",
       "    }\n",
       "</style>\n",
       "<table border=\"1\" class=\"dataframe\">\n",
       "  <thead>\n",
       "    <tr style=\"text-align: right;\">\n",
       "      <th></th>\n",
       "      <th>mean</th>\n",
       "      <th>std</th>\n",
       "    </tr>\n",
       "  </thead>\n",
       "  <tbody>\n",
       "    <tr>\n",
       "      <th>shufflenet</th>\n",
       "      <td>0.640000</td>\n",
       "      <td>0.263168</td>\n",
       "    </tr>\n",
       "    <tr>\n",
       "      <th>resnet</th>\n",
       "      <td>0.440000</td>\n",
       "      <td>0.282033</td>\n",
       "    </tr>\n",
       "    <tr>\n",
       "      <th>mlpmixer</th>\n",
       "      <td>0.908571</td>\n",
       "      <td>0.077512</td>\n",
       "    </tr>\n",
       "    <tr>\n",
       "      <th>vit</th>\n",
       "      <td>0.120000</td>\n",
       "      <td>0.573254</td>\n",
       "    </tr>\n",
       "  </tbody>\n",
       "</table>\n",
       "</div>"
      ],
      "text/plain": [
       "                mean       std\n",
       "shufflenet  0.640000  0.263168\n",
       "resnet      0.440000  0.282033\n",
       "mlpmixer    0.908571  0.077512\n",
       "vit         0.120000  0.573254"
      ]
     },
     "execution_count": 22,
     "metadata": {},
     "output_type": "execute_result"
    }
   ],
   "source": [
    "calculate_spearmanr_mean_std([shufflenet_ms_qr, resnet_ms_qr, mlpmixer_ms_qr, vit_ms_qr])"
   ]
  },
  {
   "cell_type": "code",
   "execution_count": 23,
   "metadata": {},
   "outputs": [
    {
     "name": "stderr",
     "output_type": "stream",
     "text": [
      "/root/miniconda3/envs/vit/lib/python3.9/site-packages/scipy/stats/_stats_py.py:110: RuntimeWarning: The input array could not be properly checked for nan values. nan values will be ignored.\n",
      "  warnings.warn(\"The input array could not be properly \"\n"
     ]
    },
    {
     "data": {
      "text/html": [
       "<div>\n",
       "<style scoped>\n",
       "    .dataframe tbody tr th:only-of-type {\n",
       "        vertical-align: middle;\n",
       "    }\n",
       "\n",
       "    .dataframe tbody tr th {\n",
       "        vertical-align: top;\n",
       "    }\n",
       "\n",
       "    .dataframe thead th {\n",
       "        text-align: right;\n",
       "    }\n",
       "</style>\n",
       "<table border=\"1\" class=\"dataframe\">\n",
       "  <thead>\n",
       "    <tr style=\"text-align: right;\">\n",
       "      <th></th>\n",
       "      <th>mean</th>\n",
       "      <th>std</th>\n",
       "    </tr>\n",
       "  </thead>\n",
       "  <tbody>\n",
       "    <tr>\n",
       "      <th>shufflenet</th>\n",
       "      <td>0.013333</td>\n",
       "      <td>0.462649</td>\n",
       "    </tr>\n",
       "    <tr>\n",
       "      <th>resnet</th>\n",
       "      <td>-0.066667</td>\n",
       "      <td>0.442217</td>\n",
       "    </tr>\n",
       "    <tr>\n",
       "      <th>mlpmixer</th>\n",
       "      <td>-0.093333</td>\n",
       "      <td>0.278408</td>\n",
       "    </tr>\n",
       "    <tr>\n",
       "      <th>vit</th>\n",
       "      <td>-0.066667</td>\n",
       "      <td>0.413118</td>\n",
       "    </tr>\n",
       "  </tbody>\n",
       "</table>\n",
       "</div>"
      ],
      "text/plain": [
       "                mean       std\n",
       "shufflenet  0.013333  0.462649\n",
       "resnet     -0.066667  0.442217\n",
       "mlpmixer   -0.093333  0.278408\n",
       "vit        -0.066667  0.413118"
      ]
     },
     "execution_count": 23,
     "metadata": {},
     "output_type": "execute_result"
    }
   ],
   "source": [
    "calculate_kendalltau_mean_std([shufflenet_ms, resnet_ms, mlpmixer_ms, vit_ms])"
   ]
  },
  {
   "cell_type": "code",
   "execution_count": 24,
   "metadata": {},
   "outputs": [
    {
     "name": "stderr",
     "output_type": "stream",
     "text": [
      "/root/miniconda3/envs/vit/lib/python3.9/site-packages/scipy/stats/_stats_py.py:110: RuntimeWarning: The input array could not be properly checked for nan values. nan values will be ignored.\n",
      "  warnings.warn(\"The input array could not be properly \"\n"
     ]
    },
    {
     "data": {
      "text/html": [
       "<div>\n",
       "<style scoped>\n",
       "    .dataframe tbody tr th:only-of-type {\n",
       "        vertical-align: middle;\n",
       "    }\n",
       "\n",
       "    .dataframe tbody tr th {\n",
       "        vertical-align: top;\n",
       "    }\n",
       "\n",
       "    .dataframe thead th {\n",
       "        text-align: right;\n",
       "    }\n",
       "</style>\n",
       "<table border=\"1\" class=\"dataframe\">\n",
       "  <thead>\n",
       "    <tr style=\"text-align: right;\">\n",
       "      <th></th>\n",
       "      <th>mean</th>\n",
       "      <th>std</th>\n",
       "    </tr>\n",
       "  </thead>\n",
       "  <tbody>\n",
       "    <tr>\n",
       "      <th>shufflenet</th>\n",
       "      <td>0.546667</td>\n",
       "      <td>0.280951</td>\n",
       "    </tr>\n",
       "    <tr>\n",
       "      <th>resnet</th>\n",
       "      <td>0.333333</td>\n",
       "      <td>0.273252</td>\n",
       "    </tr>\n",
       "    <tr>\n",
       "      <th>mlpmixer</th>\n",
       "      <td>0.813333</td>\n",
       "      <td>0.135974</td>\n",
       "    </tr>\n",
       "    <tr>\n",
       "      <th>vit</th>\n",
       "      <td>0.093333</td>\n",
       "      <td>0.483690</td>\n",
       "    </tr>\n",
       "  </tbody>\n",
       "</table>\n",
       "</div>"
      ],
      "text/plain": [
       "                mean       std\n",
       "shufflenet  0.546667  0.280951\n",
       "resnet      0.333333  0.273252\n",
       "mlpmixer    0.813333  0.135974\n",
       "vit         0.093333  0.483690"
      ]
     },
     "execution_count": 24,
     "metadata": {},
     "output_type": "execute_result"
    }
   ],
   "source": [
    "calculate_kendalltau_mean_std([shufflenet_ms_qr, resnet_ms_qr, mlpmixer_ms_qr, vit_ms_qr])"
   ]
  },
  {
   "cell_type": "code",
   "execution_count": 25,
   "metadata": {},
   "outputs": [],
   "source": [
    "# combine all lists\n",
    "all_importance_order_ms = shufflenet_ms + resnet_ms + mlpmixer_ms + vit_ms\n",
    "all_importance_qr_order_ms = shufflenet_ms_qr + resnet_ms_qr + mlpmixer_ms_qr + vit_ms_qr"
   ]
  },
  {
   "cell_type": "code",
   "execution_count": 26,
   "metadata": {},
   "outputs": [
    {
     "name": "stderr",
     "output_type": "stream",
     "text": [
      "/root/miniconda3/envs/vit/lib/python3.9/site-packages/scipy/stats/_stats_py.py:110: RuntimeWarning: The input array could not be properly checked for nan values. nan values will be ignored.\n",
      "  warnings.warn(\"The input array could not be properly \"\n"
     ]
    }
   ],
   "source": [
    "ms_base = calculate_spearman(all_importance_order_ms)\n",
    "ms_qr = calculate_spearman(all_importance_qr_order_ms)"
   ]
  },
  {
   "cell_type": "code",
   "execution_count": 29,
   "metadata": {},
   "outputs": [
    {
     "name": "stdout",
     "output_type": "stream",
     "text": [
      "Base Mean:0.03371428571428571, STD:0.539907475066472\n",
      "QR Mean:0.45028571428571434. STD:0.4390921989556106\n"
     ]
    }
   ],
   "source": [
    "# print mean and std\n",
    "print(f\"Base Mean:{np.mean(ms_base)}, STD:{np.std(ms_base)}\")\n",
    "print(f\"QR Mean:{np.mean(ms_qr)}. STD:{np.std(ms_qr)}\")"
   ]
  },
  {
   "cell_type": "code",
   "execution_count": 131,
   "metadata": {},
   "outputs": [
    {
     "data": {
      "image/png": "[encoded data removed]",
      "text/plain": [
       "<Figure size 720x720 with 1 Axes>"
      ]
     },
     "metadata": {
      "needs_background": "light"
     },
     "output_type": "display_data"
    }
   ],
   "source": [
    "make_heatmap(ms_base, color_bar=False, save_name='MS_without_QR')"
   ]
  },
  {
   "cell_type": "code",
   "execution_count": 132,
   "metadata": {},
   "outputs": [
    {
     "data": {
      "image/png": "[encoded data removed]",
      "text/plain": [
       "<Figure size 720x720 with 1 Axes>"
      ]
     },
     "metadata": {
      "needs_background": "light"
     },
     "output_type": "display_data"
    }
   ],
   "source": [
    "make_heatmap(ms_qr, color_bar=False, save_name='MS_with_QR')"
   ]
  },
  {
   "cell_type": "code",
   "execution_count": 133,
   "metadata": {},
   "outputs": [
    {
     "data": {
      "text/plain": [
       "<AxesSubplot:>"
      ]
     },
     "execution_count": 133,
     "metadata": {},
     "output_type": "execute_result"
    },
    {
     "data": {
      "image/png": "[encoded data removed]",
      "text/plain": [
       "<Figure size 720x720 with 2 Axes>"
      ]
     },
     "metadata": {
      "needs_background": "light"
     },
     "output_type": "display_data"
    }
   ],
   "source": [
    "# plot the heatmap. blue for positive, red for negative\n",
    "plt.figure(figsize=(10,10))\n",
    "sns.heatmap(ms_base, cmap='RdBu_r', vmin=-1, vmax=1, center=0, square=True, linewidths=.5, cbar_kws={\"shrink\": .5})"
   ]
  },
  {
   "cell_type": "code",
   "execution_count": 134,
   "metadata": {},
   "outputs": [
    {
     "data": {
      "text/plain": [
       "<AxesSubplot:>"
      ]
     },
     "execution_count": 134,
     "metadata": {},
     "output_type": "execute_result"
    },
    {
     "data": {
      "image/png": "[encoded data removed]",
      "text/plain": [
       "<Figure size 720x720 with 2 Axes>"
      ]
     },
     "metadata": {
      "needs_background": "light"
     },
     "output_type": "display_data"
    }
   ],
   "source": [
    "plt.figure(figsize=(10,10))\n",
    "sns.heatmap(ms_qr, cmap='RdBu_r', vmin=-1, vmax=1, center=0, square=True, linewidths=.5, cbar_kws={\"shrink\": .5})"
   ]
  },
  {
   "cell_type": "code",
   "execution_count": null,
   "metadata": {},
   "outputs": [],
   "source": [
    "# Draw ModelWise "
   ]
  }
 ],
 "metadata": {
  "kernelspec": {
   "display_name": "Python 3",
   "language": "python",
   "name": "python3"
  },
  "language_info": {
   "codemirror_mode": {
    "name": "ipython",
    "version": 3
   },
   "file_extension": ".py",
   "mimetype": "text/x-python",
   "name": "python",
   "nbconvert_exporter": "python",
   "pygments_lexer": "ipython3",
   "version": "3.9.13"
  },
  "orig_nbformat": 4
 },
 "nbformat": 4,
 "nbformat_minor": 2
}
