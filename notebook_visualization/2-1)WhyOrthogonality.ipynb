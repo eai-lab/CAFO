{
 "cells": [
  {
   "cell_type": "code",
   "execution_count": 2,
   "metadata": {},
   "outputs": [],
   "source": [
    "import pandas as pd\n",
    "import numpy as np\n",
    "import os\n",
    "import glob\n",
    "from itertools import combinations\n",
    "from collections import defaultdict\n",
    "from random import sample\n",
    "import random\n",
    "import seaborn as sns\n",
    "import matplotlib.pyplot as plt\n",
    "\n",
    "sns.set_context('poster')\n",
    "sns.set_theme(style=\"whitegrid\")\n",
    "from sklearn.manifold import TSNE\n",
    "from sklearn.metrics import silhouette_score, davies_bouldin_score, calinski_harabasz_score\n",
    "\n",
    "mapper={0:'Stand Still',1:'Treadmill Walk',2:'Treadmill Run',3:'Ground Walk',4:'Squat',5:'Lunge',6:'Jumping Jack'}"
   ]
  },
  {
   "cell_type": "code",
   "execution_count": 3,
   "metadata": {},
   "outputs": [],
   "source": [
    "def get_attention_label(exp_num, test_num):\n",
    "    main_np_dir = f'dataset/attention_tsne/EXP{exp_num}/test_{test_num}/channel_test_attention.npy'\n",
    "    attention_label_dir = f'dataset/attention_tsne/EXP{exp_num}/test_{test_num}/channel_test_attention_scores.csv'\n",
    "    main_np = np.load(main_np_dir)\n",
    "    attention_label = pd.read_csv(attention_label_dir)\n",
    "    attention_score = pd.DataFrame(main_np.squeeze())\n",
    "    attention_score['label'] = attention_label['y_true']\n",
    "    attention_score['label'] = attention_score['label'].map(mapper)\n",
    "    attention_score['color'] = attention_score['label'].map({'Stand Still':'#FF5733', 'Treadmill Walk':'#FF0000', 'Treadmill Run':'#1E90FF', 'Ground Walk':'#4CBB17', 'Squat':'#8B008B', 'Lunge':'#00CED1', 'Jumping Jack':'#FF69B4'})\n",
    "    return attention_score"
   ]
  },
  {
   "cell_type": "code",
   "execution_count": 4,
   "metadata": {},
   "outputs": [],
   "source": [
    "depthwise_1020 = get_attention_label(1020, 3)\n",
    "depthwise_cafo_1042 = get_attention_label(1042, 3)"
   ]
  },
  {
   "cell_type": "code",
   "execution_count": 5,
   "metadata": {},
   "outputs": [
    {
     "name": "stderr",
     "output_type": "stream",
     "text": [
      "/tmp/ipykernel_218714/2866295293.py:1: FutureWarning: The default value of numeric_only in DataFrame.mean is deprecated. In a future version, it will default to False. In addition, specifying 'numeric_only=None' is deprecated. Select only valid columns or specify the value of numeric_only to silence this warning.\n",
      "  depthwise_1020.mean().std()\n"
     ]
    },
    {
     "data": {
      "text/plain": [
       "0.06736496"
      ]
     },
     "execution_count": 5,
     "metadata": {},
     "output_type": "execute_result"
    }
   ],
   "source": [
    "depthwise_1020.mean().std()"
   ]
  },
  {
   "cell_type": "code",
   "execution_count": 6,
   "metadata": {},
   "outputs": [
    {
     "name": "stderr",
     "output_type": "stream",
     "text": [
      "/tmp/ipykernel_218714/1009151885.py:1: FutureWarning: The default value of numeric_only in DataFrame.mean is deprecated. In a future version, it will default to False. In addition, specifying 'numeric_only=None' is deprecated. Select only valid columns or specify the value of numeric_only to silence this warning.\n",
      "  depthwise_cafo_1042.mean().std()\n"
     ]
    },
    {
     "data": {
      "text/plain": [
       "0.07968683"
      ]
     },
     "execution_count": 6,
     "metadata": {},
     "output_type": "execute_result"
    }
   ],
   "source": [
    "depthwise_cafo_1042.mean().std()"
   ]
  },
  {
   "cell_type": "code",
   "execution_count": 7,
   "metadata": {},
   "outputs": [
    {
     "data": {
      "text/html": [
       "<div>\n",
       "<style scoped>\n",
       "    .dataframe tbody tr th:only-of-type {\n",
       "        vertical-align: middle;\n",
       "    }\n",
       "\n",
       "    .dataframe tbody tr th {\n",
       "        vertical-align: top;\n",
       "    }\n",
       "\n",
       "    .dataframe thead th {\n",
       "        text-align: right;\n",
       "    }\n",
       "</style>\n",
       "<table border=\"1\" class=\"dataframe\">\n",
       "  <thead>\n",
       "    <tr style=\"text-align: right;\">\n",
       "      <th></th>\n",
       "      <th>0</th>\n",
       "      <th>1</th>\n",
       "      <th>2</th>\n",
       "      <th>3</th>\n",
       "      <th>4</th>\n",
       "      <th>5</th>\n",
       "      <th>6</th>\n",
       "      <th>7</th>\n",
       "      <th>8</th>\n",
       "      <th>9</th>\n",
       "      <th>10</th>\n",
       "      <th>11</th>\n",
       "      <th>12</th>\n",
       "      <th>13</th>\n",
       "      <th>label</th>\n",
       "      <th>color</th>\n",
       "    </tr>\n",
       "  </thead>\n",
       "  <tbody>\n",
       "    <tr>\n",
       "      <th>0</th>\n",
       "      <td>0.419245</td>\n",
       "      <td>0.200064</td>\n",
       "      <td>0.248462</td>\n",
       "      <td>0.386962</td>\n",
       "      <td>0.461726</td>\n",
       "      <td>0.386382</td>\n",
       "      <td>0.386965</td>\n",
       "      <td>0.524414</td>\n",
       "      <td>0.434384</td>\n",
       "      <td>0.548734</td>\n",
       "      <td>0.566689</td>\n",
       "      <td>0.524729</td>\n",
       "      <td>0.450145</td>\n",
       "      <td>0.471527</td>\n",
       "      <td>Stand Still</td>\n",
       "      <td>#FF5733</td>\n",
       "    </tr>\n",
       "    <tr>\n",
       "      <th>1</th>\n",
       "      <td>0.475379</td>\n",
       "      <td>0.209485</td>\n",
       "      <td>0.243615</td>\n",
       "      <td>0.386962</td>\n",
       "      <td>0.463915</td>\n",
       "      <td>0.400880</td>\n",
       "      <td>0.404200</td>\n",
       "      <td>0.549964</td>\n",
       "      <td>0.434906</td>\n",
       "      <td>0.542218</td>\n",
       "      <td>0.565368</td>\n",
       "      <td>0.529201</td>\n",
       "      <td>0.446810</td>\n",
       "      <td>0.445284</td>\n",
       "      <td>Stand Still</td>\n",
       "      <td>#FF5733</td>\n",
       "    </tr>\n",
       "    <tr>\n",
       "      <th>2</th>\n",
       "      <td>0.477293</td>\n",
       "      <td>0.207241</td>\n",
       "      <td>0.274386</td>\n",
       "      <td>0.386962</td>\n",
       "      <td>0.473791</td>\n",
       "      <td>0.397564</td>\n",
       "      <td>0.435953</td>\n",
       "      <td>0.524862</td>\n",
       "      <td>0.467022</td>\n",
       "      <td>0.562781</td>\n",
       "      <td>0.576265</td>\n",
       "      <td>0.530111</td>\n",
       "      <td>0.441614</td>\n",
       "      <td>0.462131</td>\n",
       "      <td>Stand Still</td>\n",
       "      <td>#FF5733</td>\n",
       "    </tr>\n",
       "    <tr>\n",
       "      <th>3</th>\n",
       "      <td>0.489743</td>\n",
       "      <td>0.207241</td>\n",
       "      <td>0.215290</td>\n",
       "      <td>0.388619</td>\n",
       "      <td>0.467821</td>\n",
       "      <td>0.395623</td>\n",
       "      <td>0.440934</td>\n",
       "      <td>0.519409</td>\n",
       "      <td>0.480237</td>\n",
       "      <td>0.565499</td>\n",
       "      <td>0.578043</td>\n",
       "      <td>0.528661</td>\n",
       "      <td>0.451258</td>\n",
       "      <td>0.454145</td>\n",
       "      <td>Stand Still</td>\n",
       "      <td>#FF5733</td>\n",
       "    </tr>\n",
       "    <tr>\n",
       "      <th>4</th>\n",
       "      <td>0.477293</td>\n",
       "      <td>0.204985</td>\n",
       "      <td>0.240298</td>\n",
       "      <td>0.521907</td>\n",
       "      <td>0.445708</td>\n",
       "      <td>0.403741</td>\n",
       "      <td>0.422755</td>\n",
       "      <td>0.523317</td>\n",
       "      <td>0.481054</td>\n",
       "      <td>0.520519</td>\n",
       "      <td>0.584082</td>\n",
       "      <td>0.539221</td>\n",
       "      <td>0.440764</td>\n",
       "      <td>0.475765</td>\n",
       "      <td>Stand Still</td>\n",
       "      <td>#FF5733</td>\n",
       "    </tr>\n",
       "    <tr>\n",
       "      <th>...</th>\n",
       "      <td>...</td>\n",
       "      <td>...</td>\n",
       "      <td>...</td>\n",
       "      <td>...</td>\n",
       "      <td>...</td>\n",
       "      <td>...</td>\n",
       "      <td>...</td>\n",
       "      <td>...</td>\n",
       "      <td>...</td>\n",
       "      <td>...</td>\n",
       "      <td>...</td>\n",
       "      <td>...</td>\n",
       "      <td>...</td>\n",
       "      <td>...</td>\n",
       "      <td>...</td>\n",
       "      <td>...</td>\n",
       "    </tr>\n",
       "    <tr>\n",
       "      <th>14274</th>\n",
       "      <td>0.599456</td>\n",
       "      <td>0.385321</td>\n",
       "      <td>0.480271</td>\n",
       "      <td>0.492375</td>\n",
       "      <td>0.432215</td>\n",
       "      <td>0.373459</td>\n",
       "      <td>0.457590</td>\n",
       "      <td>0.562915</td>\n",
       "      <td>0.489560</td>\n",
       "      <td>0.569681</td>\n",
       "      <td>0.573545</td>\n",
       "      <td>0.525281</td>\n",
       "      <td>0.439252</td>\n",
       "      <td>0.465229</td>\n",
       "      <td>Jumping Jack</td>\n",
       "      <td>#FF69B4</td>\n",
       "    </tr>\n",
       "    <tr>\n",
       "      <th>14275</th>\n",
       "      <td>0.612777</td>\n",
       "      <td>0.397656</td>\n",
       "      <td>0.479694</td>\n",
       "      <td>0.503581</td>\n",
       "      <td>0.428549</td>\n",
       "      <td>0.417387</td>\n",
       "      <td>0.456908</td>\n",
       "      <td>0.560684</td>\n",
       "      <td>0.485415</td>\n",
       "      <td>0.572564</td>\n",
       "      <td>0.575789</td>\n",
       "      <td>0.523576</td>\n",
       "      <td>0.438606</td>\n",
       "      <td>0.471184</td>\n",
       "      <td>Jumping Jack</td>\n",
       "      <td>#FF69B4</td>\n",
       "    </tr>\n",
       "    <tr>\n",
       "      <th>14276</th>\n",
       "      <td>0.544758</td>\n",
       "      <td>0.371336</td>\n",
       "      <td>0.482951</td>\n",
       "      <td>0.493783</td>\n",
       "      <td>0.420486</td>\n",
       "      <td>0.435370</td>\n",
       "      <td>0.471094</td>\n",
       "      <td>0.573357</td>\n",
       "      <td>0.497277</td>\n",
       "      <td>0.512060</td>\n",
       "      <td>0.580738</td>\n",
       "      <td>0.534305</td>\n",
       "      <td>0.453525</td>\n",
       "      <td>0.378291</td>\n",
       "      <td>Jumping Jack</td>\n",
       "      <td>#FF69B4</td>\n",
       "    </tr>\n",
       "    <tr>\n",
       "      <th>14277</th>\n",
       "      <td>0.537083</td>\n",
       "      <td>0.374874</td>\n",
       "      <td>0.460683</td>\n",
       "      <td>0.466761</td>\n",
       "      <td>0.406049</td>\n",
       "      <td>0.411287</td>\n",
       "      <td>0.469549</td>\n",
       "      <td>0.574257</td>\n",
       "      <td>0.491507</td>\n",
       "      <td>0.550573</td>\n",
       "      <td>0.573796</td>\n",
       "      <td>0.535334</td>\n",
       "      <td>0.449574</td>\n",
       "      <td>0.432753</td>\n",
       "      <td>Jumping Jack</td>\n",
       "      <td>#FF69B4</td>\n",
       "    </tr>\n",
       "    <tr>\n",
       "      <th>14278</th>\n",
       "      <td>0.517948</td>\n",
       "      <td>0.347598</td>\n",
       "      <td>0.395781</td>\n",
       "      <td>0.443651</td>\n",
       "      <td>0.387284</td>\n",
       "      <td>0.352682</td>\n",
       "      <td>0.473602</td>\n",
       "      <td>0.559265</td>\n",
       "      <td>0.460550</td>\n",
       "      <td>0.559149</td>\n",
       "      <td>0.565814</td>\n",
       "      <td>0.525465</td>\n",
       "      <td>0.442427</td>\n",
       "      <td>0.455320</td>\n",
       "      <td>Jumping Jack</td>\n",
       "      <td>#FF69B4</td>\n",
       "    </tr>\n",
       "  </tbody>\n",
       "</table>\n",
       "<p>14279 rows × 16 columns</p>\n",
       "</div>"
      ],
      "text/plain": [
       "              0         1         2         3         4         5         6  \\\n",
       "0      0.419245  0.200064  0.248462  0.386962  0.461726  0.386382  0.386965   \n",
       "1      0.475379  0.209485  0.243615  0.386962  0.463915  0.400880  0.404200   \n",
       "2      0.477293  0.207241  0.274386  0.386962  0.473791  0.397564  0.435953   \n",
       "3      0.489743  0.207241  0.215290  0.388619  0.467821  0.395623  0.440934   \n",
       "4      0.477293  0.204985  0.240298  0.521907  0.445708  0.403741  0.422755   \n",
       "...         ...       ...       ...       ...       ...       ...       ...   \n",
       "14274  0.599456  0.385321  0.480271  0.492375  0.432215  0.373459  0.457590   \n",
       "14275  0.612777  0.397656  0.479694  0.503581  0.428549  0.417387  0.456908   \n",
       "14276  0.544758  0.371336  0.482951  0.493783  0.420486  0.435370  0.471094   \n",
       "14277  0.537083  0.374874  0.460683  0.466761  0.406049  0.411287  0.469549   \n",
       "14278  0.517948  0.347598  0.395781  0.443651  0.387284  0.352682  0.473602   \n",
       "\n",
       "              7         8         9        10        11        12        13  \\\n",
       "0      0.524414  0.434384  0.548734  0.566689  0.524729  0.450145  0.471527   \n",
       "1      0.549964  0.434906  0.542218  0.565368  0.529201  0.446810  0.445284   \n",
       "2      0.524862  0.467022  0.562781  0.576265  0.530111  0.441614  0.462131   \n",
       "3      0.519409  0.480237  0.565499  0.578043  0.528661  0.451258  0.454145   \n",
       "4      0.523317  0.481054  0.520519  0.584082  0.539221  0.440764  0.475765   \n",
       "...         ...       ...       ...       ...       ...       ...       ...   \n",
       "14274  0.562915  0.489560  0.569681  0.573545  0.525281  0.439252  0.465229   \n",
       "14275  0.560684  0.485415  0.572564  0.575789  0.523576  0.438606  0.471184   \n",
       "14276  0.573357  0.497277  0.512060  0.580738  0.534305  0.453525  0.378291   \n",
       "14277  0.574257  0.491507  0.550573  0.573796  0.535334  0.449574  0.432753   \n",
       "14278  0.559265  0.460550  0.559149  0.565814  0.525465  0.442427  0.455320   \n",
       "\n",
       "              label    color  \n",
       "0       Stand Still  #FF5733  \n",
       "1       Stand Still  #FF5733  \n",
       "2       Stand Still  #FF5733  \n",
       "3       Stand Still  #FF5733  \n",
       "4       Stand Still  #FF5733  \n",
       "...             ...      ...  \n",
       "14274  Jumping Jack  #FF69B4  \n",
       "14275  Jumping Jack  #FF69B4  \n",
       "14276  Jumping Jack  #FF69B4  \n",
       "14277  Jumping Jack  #FF69B4  \n",
       "14278  Jumping Jack  #FF69B4  \n",
       "\n",
       "[14279 rows x 16 columns]"
      ]
     },
     "execution_count": 7,
     "metadata": {},
     "output_type": "execute_result"
    }
   ],
   "source": [
    "depthwise_1020"
   ]
  },
  {
   "cell_type": "code",
   "execution_count": 8,
   "metadata": {},
   "outputs": [
    {
     "name": "stderr",
     "output_type": "stream",
     "text": [
      "/tmp/ipykernel_218714/2328440931.py:1: FutureWarning: The default value of numeric_only in DataFrame.mean is deprecated. In a future version, it will default to False. In addition, specifying 'numeric_only=None' is deprecated. Select only valid columns or specify the value of numeric_only to silence this warning.\n",
      "  depthwise_1020.mean()\n"
     ]
    },
    {
     "data": {
      "text/plain": [
       "0     0.590887\n",
       "1     0.387219\n",
       "2     0.415497\n",
       "3     0.498717\n",
       "4     0.435933\n",
       "5     0.371524\n",
       "6     0.408095\n",
       "7     0.530662\n",
       "8     0.459681\n",
       "9     0.534200\n",
       "10    0.551671\n",
       "11    0.520299\n",
       "12    0.438059\n",
       "13    0.439758\n",
       "dtype: float32"
      ]
     },
     "execution_count": 8,
     "metadata": {},
     "output_type": "execute_result"
    }
   ],
   "source": [
    "depthwise_1020.mean()"
   ]
  },
  {
   "cell_type": "code",
   "execution_count": 9,
   "metadata": {},
   "outputs": [
    {
     "name": "stderr",
     "output_type": "stream",
     "text": [
      "/tmp/ipykernel_218714/2336894186.py:2: FutureWarning: The default value of numeric_only in DataFrame.mean is deprecated. In a future version, it will default to False. In addition, specifying 'numeric_only=None' is deprecated. Select only valid columns or specify the value of numeric_only to silence this warning.\n",
      "  depthwise_1042_mean = depthwise_cafo_1042.mean()\n"
     ]
    },
    {
     "name": "stdout",
     "output_type": "stream",
     "text": [
      "0.02382694517395326\n",
      "None\n",
      "0.02547022553959063\n",
      "None\n"
     ]
    },
    {
     "name": "stderr",
     "output_type": "stream",
     "text": [
      "/tmp/ipykernel_218714/2336894186.py:9: FutureWarning: The default value of numeric_only in DataFrame.mean is deprecated. In a future version, it will default to False. In addition, specifying 'numeric_only=None' is deprecated. Select only valid columns or specify the value of numeric_only to silence this warning.\n",
      "  data_mean = data.mean()\n"
     ]
    }
   ],
   "source": [
    "# calculate pairwise distance between means of every feature\n",
    "depthwise_1042_mean = depthwise_cafo_1042.mean()\n",
    "depthwise_1042_dist = np.abs(depthwise_1020-depthwise_1042_mean)\n",
    "depthwise_avg_dist = np.mean(depthwise_1042_dist, axis=0)\n",
    "depthwise_avg_dist.mean()\n",
    "\n",
    "\n",
    "def calculate_avg_dist(data):\n",
    "    data_mean = data.mean()\n",
    "    data_dist = np.abs(data-data_mean)\n",
    "    data_avg_dist = np.mean(data_dist, axis=0)\n",
    "    print(data_avg_dist.mean())\n",
    "\n",
    "print(calculate_avg_dist(depthwise_1020))\n",
    "print(calculate_avg_dist(depthwise_cafo_1042))"
   ]
  },
  {
   "cell_type": "code",
   "execution_count": 10,
   "metadata": {},
   "outputs": [
    {
     "data": {
      "text/html": [
       "<div>\n",
       "<style scoped>\n",
       "    .dataframe tbody tr th:only-of-type {\n",
       "        vertical-align: middle;\n",
       "    }\n",
       "\n",
       "    .dataframe tbody tr th {\n",
       "        vertical-align: top;\n",
       "    }\n",
       "\n",
       "    .dataframe thead th {\n",
       "        text-align: right;\n",
       "    }\n",
       "</style>\n",
       "<table border=\"1\" class=\"dataframe\">\n",
       "  <thead>\n",
       "    <tr style=\"text-align: right;\">\n",
       "      <th></th>\n",
       "      <th>0</th>\n",
       "      <th>1</th>\n",
       "      <th>2</th>\n",
       "      <th>3</th>\n",
       "      <th>4</th>\n",
       "      <th>5</th>\n",
       "      <th>6</th>\n",
       "      <th>7</th>\n",
       "      <th>8</th>\n",
       "      <th>9</th>\n",
       "      <th>10</th>\n",
       "      <th>11</th>\n",
       "      <th>12</th>\n",
       "      <th>13</th>\n",
       "      <th>label</th>\n",
       "      <th>color</th>\n",
       "    </tr>\n",
       "  </thead>\n",
       "  <tbody>\n",
       "    <tr>\n",
       "      <th>0</th>\n",
       "      <td>0.419245</td>\n",
       "      <td>0.200064</td>\n",
       "      <td>0.248462</td>\n",
       "      <td>0.386962</td>\n",
       "      <td>0.461726</td>\n",
       "      <td>0.386382</td>\n",
       "      <td>0.386965</td>\n",
       "      <td>0.524414</td>\n",
       "      <td>0.434384</td>\n",
       "      <td>0.548734</td>\n",
       "      <td>0.566689</td>\n",
       "      <td>0.524729</td>\n",
       "      <td>0.450145</td>\n",
       "      <td>0.471527</td>\n",
       "      <td>Stand Still</td>\n",
       "      <td>#FF5733</td>\n",
       "    </tr>\n",
       "    <tr>\n",
       "      <th>1</th>\n",
       "      <td>0.475379</td>\n",
       "      <td>0.209485</td>\n",
       "      <td>0.243615</td>\n",
       "      <td>0.386962</td>\n",
       "      <td>0.463915</td>\n",
       "      <td>0.400880</td>\n",
       "      <td>0.404200</td>\n",
       "      <td>0.549964</td>\n",
       "      <td>0.434906</td>\n",
       "      <td>0.542218</td>\n",
       "      <td>0.565368</td>\n",
       "      <td>0.529201</td>\n",
       "      <td>0.446810</td>\n",
       "      <td>0.445284</td>\n",
       "      <td>Stand Still</td>\n",
       "      <td>#FF5733</td>\n",
       "    </tr>\n",
       "    <tr>\n",
       "      <th>2</th>\n",
       "      <td>0.477293</td>\n",
       "      <td>0.207241</td>\n",
       "      <td>0.274386</td>\n",
       "      <td>0.386962</td>\n",
       "      <td>0.473791</td>\n",
       "      <td>0.397564</td>\n",
       "      <td>0.435953</td>\n",
       "      <td>0.524862</td>\n",
       "      <td>0.467022</td>\n",
       "      <td>0.562781</td>\n",
       "      <td>0.576265</td>\n",
       "      <td>0.530111</td>\n",
       "      <td>0.441614</td>\n",
       "      <td>0.462131</td>\n",
       "      <td>Stand Still</td>\n",
       "      <td>#FF5733</td>\n",
       "    </tr>\n",
       "    <tr>\n",
       "      <th>3</th>\n",
       "      <td>0.489743</td>\n",
       "      <td>0.207241</td>\n",
       "      <td>0.215290</td>\n",
       "      <td>0.388619</td>\n",
       "      <td>0.467821</td>\n",
       "      <td>0.395623</td>\n",
       "      <td>0.440934</td>\n",
       "      <td>0.519409</td>\n",
       "      <td>0.480237</td>\n",
       "      <td>0.565499</td>\n",
       "      <td>0.578043</td>\n",
       "      <td>0.528661</td>\n",
       "      <td>0.451258</td>\n",
       "      <td>0.454145</td>\n",
       "      <td>Stand Still</td>\n",
       "      <td>#FF5733</td>\n",
       "    </tr>\n",
       "    <tr>\n",
       "      <th>4</th>\n",
       "      <td>0.477293</td>\n",
       "      <td>0.204985</td>\n",
       "      <td>0.240298</td>\n",
       "      <td>0.521907</td>\n",
       "      <td>0.445708</td>\n",
       "      <td>0.403741</td>\n",
       "      <td>0.422755</td>\n",
       "      <td>0.523317</td>\n",
       "      <td>0.481054</td>\n",
       "      <td>0.520519</td>\n",
       "      <td>0.584082</td>\n",
       "      <td>0.539221</td>\n",
       "      <td>0.440764</td>\n",
       "      <td>0.475765</td>\n",
       "      <td>Stand Still</td>\n",
       "      <td>#FF5733</td>\n",
       "    </tr>\n",
       "    <tr>\n",
       "      <th>...</th>\n",
       "      <td>...</td>\n",
       "      <td>...</td>\n",
       "      <td>...</td>\n",
       "      <td>...</td>\n",
       "      <td>...</td>\n",
       "      <td>...</td>\n",
       "      <td>...</td>\n",
       "      <td>...</td>\n",
       "      <td>...</td>\n",
       "      <td>...</td>\n",
       "      <td>...</td>\n",
       "      <td>...</td>\n",
       "      <td>...</td>\n",
       "      <td>...</td>\n",
       "      <td>...</td>\n",
       "      <td>...</td>\n",
       "    </tr>\n",
       "    <tr>\n",
       "      <th>14274</th>\n",
       "      <td>0.599456</td>\n",
       "      <td>0.385321</td>\n",
       "      <td>0.480271</td>\n",
       "      <td>0.492375</td>\n",
       "      <td>0.432215</td>\n",
       "      <td>0.373459</td>\n",
       "      <td>0.457590</td>\n",
       "      <td>0.562915</td>\n",
       "      <td>0.489560</td>\n",
       "      <td>0.569681</td>\n",
       "      <td>0.573545</td>\n",
       "      <td>0.525281</td>\n",
       "      <td>0.439252</td>\n",
       "      <td>0.465229</td>\n",
       "      <td>Jumping Jack</td>\n",
       "      <td>#FF69B4</td>\n",
       "    </tr>\n",
       "    <tr>\n",
       "      <th>14275</th>\n",
       "      <td>0.612777</td>\n",
       "      <td>0.397656</td>\n",
       "      <td>0.479694</td>\n",
       "      <td>0.503581</td>\n",
       "      <td>0.428549</td>\n",
       "      <td>0.417387</td>\n",
       "      <td>0.456908</td>\n",
       "      <td>0.560684</td>\n",
       "      <td>0.485415</td>\n",
       "      <td>0.572564</td>\n",
       "      <td>0.575789</td>\n",
       "      <td>0.523576</td>\n",
       "      <td>0.438606</td>\n",
       "      <td>0.471184</td>\n",
       "      <td>Jumping Jack</td>\n",
       "      <td>#FF69B4</td>\n",
       "    </tr>\n",
       "    <tr>\n",
       "      <th>14276</th>\n",
       "      <td>0.544758</td>\n",
       "      <td>0.371336</td>\n",
       "      <td>0.482951</td>\n",
       "      <td>0.493783</td>\n",
       "      <td>0.420486</td>\n",
       "      <td>0.435370</td>\n",
       "      <td>0.471094</td>\n",
       "      <td>0.573357</td>\n",
       "      <td>0.497277</td>\n",
       "      <td>0.512060</td>\n",
       "      <td>0.580738</td>\n",
       "      <td>0.534305</td>\n",
       "      <td>0.453525</td>\n",
       "      <td>0.378291</td>\n",
       "      <td>Jumping Jack</td>\n",
       "      <td>#FF69B4</td>\n",
       "    </tr>\n",
       "    <tr>\n",
       "      <th>14277</th>\n",
       "      <td>0.537083</td>\n",
       "      <td>0.374874</td>\n",
       "      <td>0.460683</td>\n",
       "      <td>0.466761</td>\n",
       "      <td>0.406049</td>\n",
       "      <td>0.411287</td>\n",
       "      <td>0.469549</td>\n",
       "      <td>0.574257</td>\n",
       "      <td>0.491507</td>\n",
       "      <td>0.550573</td>\n",
       "      <td>0.573796</td>\n",
       "      <td>0.535334</td>\n",
       "      <td>0.449574</td>\n",
       "      <td>0.432753</td>\n",
       "      <td>Jumping Jack</td>\n",
       "      <td>#FF69B4</td>\n",
       "    </tr>\n",
       "    <tr>\n",
       "      <th>14278</th>\n",
       "      <td>0.517948</td>\n",
       "      <td>0.347598</td>\n",
       "      <td>0.395781</td>\n",
       "      <td>0.443651</td>\n",
       "      <td>0.387284</td>\n",
       "      <td>0.352682</td>\n",
       "      <td>0.473602</td>\n",
       "      <td>0.559265</td>\n",
       "      <td>0.460550</td>\n",
       "      <td>0.559149</td>\n",
       "      <td>0.565814</td>\n",
       "      <td>0.525465</td>\n",
       "      <td>0.442427</td>\n",
       "      <td>0.455320</td>\n",
       "      <td>Jumping Jack</td>\n",
       "      <td>#FF69B4</td>\n",
       "    </tr>\n",
       "  </tbody>\n",
       "</table>\n",
       "<p>14279 rows × 16 columns</p>\n",
       "</div>"
      ],
      "text/plain": [
       "              0         1         2         3         4         5         6  \\\n",
       "0      0.419245  0.200064  0.248462  0.386962  0.461726  0.386382  0.386965   \n",
       "1      0.475379  0.209485  0.243615  0.386962  0.463915  0.400880  0.404200   \n",
       "2      0.477293  0.207241  0.274386  0.386962  0.473791  0.397564  0.435953   \n",
       "3      0.489743  0.207241  0.215290  0.388619  0.467821  0.395623  0.440934   \n",
       "4      0.477293  0.204985  0.240298  0.521907  0.445708  0.403741  0.422755   \n",
       "...         ...       ...       ...       ...       ...       ...       ...   \n",
       "14274  0.599456  0.385321  0.480271  0.492375  0.432215  0.373459  0.457590   \n",
       "14275  0.612777  0.397656  0.479694  0.503581  0.428549  0.417387  0.456908   \n",
       "14276  0.544758  0.371336  0.482951  0.493783  0.420486  0.435370  0.471094   \n",
       "14277  0.537083  0.374874  0.460683  0.466761  0.406049  0.411287  0.469549   \n",
       "14278  0.517948  0.347598  0.395781  0.443651  0.387284  0.352682  0.473602   \n",
       "\n",
       "              7         8         9        10        11        12        13  \\\n",
       "0      0.524414  0.434384  0.548734  0.566689  0.524729  0.450145  0.471527   \n",
       "1      0.549964  0.434906  0.542218  0.565368  0.529201  0.446810  0.445284   \n",
       "2      0.524862  0.467022  0.562781  0.576265  0.530111  0.441614  0.462131   \n",
       "3      0.519409  0.480237  0.565499  0.578043  0.528661  0.451258  0.454145   \n",
       "4      0.523317  0.481054  0.520519  0.584082  0.539221  0.440764  0.475765   \n",
       "...         ...       ...       ...       ...       ...       ...       ...   \n",
       "14274  0.562915  0.489560  0.569681  0.573545  0.525281  0.439252  0.465229   \n",
       "14275  0.560684  0.485415  0.572564  0.575789  0.523576  0.438606  0.471184   \n",
       "14276  0.573357  0.497277  0.512060  0.580738  0.534305  0.453525  0.378291   \n",
       "14277  0.574257  0.491507  0.550573  0.573796  0.535334  0.449574  0.432753   \n",
       "14278  0.559265  0.460550  0.559149  0.565814  0.525465  0.442427  0.455320   \n",
       "\n",
       "              label    color  \n",
       "0       Stand Still  #FF5733  \n",
       "1       Stand Still  #FF5733  \n",
       "2       Stand Still  #FF5733  \n",
       "3       Stand Still  #FF5733  \n",
       "4       Stand Still  #FF5733  \n",
       "...             ...      ...  \n",
       "14274  Jumping Jack  #FF69B4  \n",
       "14275  Jumping Jack  #FF69B4  \n",
       "14276  Jumping Jack  #FF69B4  \n",
       "14277  Jumping Jack  #FF69B4  \n",
       "14278  Jumping Jack  #FF69B4  \n",
       "\n",
       "[14279 rows x 16 columns]"
      ]
     },
     "execution_count": 10,
     "metadata": {},
     "output_type": "execute_result"
    }
   ],
   "source": [
    "depthwise_1020"
   ]
  },
  {
   "cell_type": "code",
   "execution_count": 11,
   "metadata": {},
   "outputs": [
    {
     "data": {
      "text/plain": [
       "(0.0, 0.8)"
      ]
     },
     "execution_count": 11,
     "metadata": {},
     "output_type": "execute_result"
    },
    {
     "data": {
      "image/png": "[encoded data removed]",
      "text/plain": [
       "<Figure size 720x360 with 1 Axes>"
      ]
     },
     "metadata": {
      "needs_background": "light"
     },
     "output_type": "display_data"
    }
   ],
   "source": [
    "depthwise_1020_melt = depthwise_1020.iloc[:,:14].melt()[['value']]\n",
    "cafo_melt = depthwise_cafo_1042.iloc[:,:14].melt()[['value']]\n",
    "# kde plot \n",
    "fig, ax = plt.subplots(figsize=(10, 5))\n",
    "sns.kdeplot(data=depthwise_1020, x=0, hue=depthwise_1020['label'], fill=True, ax=ax)\n",
    "# set x axis limit\n",
    "ax.set_xlim(0, 0.8)"
   ]
  },
  {
   "cell_type": "code",
   "execution_count": 12,
   "metadata": {},
   "outputs": [
    {
     "data": {
      "text/plain": [
       "(0.0, 0.6)"
      ]
     },
     "execution_count": 12,
     "metadata": {},
     "output_type": "execute_result"
    },
    {
     "data": {
      "image/png": "[encoded data removed]",
      "text/plain": [
       "<Figure size 720x360 with 1 Axes>"
      ]
     },
     "metadata": {
      "needs_background": "light"
     },
     "output_type": "display_data"
    }
   ],
   "source": [
    "fig, ax = plt.subplots(figsize=(10, 5))\n",
    "sns.kdeplot(data=cafo_melt, x=\"value\", hue=depthwise_cafo_1042['label'], fill=True, ax=ax)\n",
    "# set x axis limit\n",
    "ax.set_xlim(0, 0.6)"
   ]
  },
  {
   "cell_type": "code",
   "execution_count": 13,
   "metadata": {},
   "outputs": [
    {
     "name": "stdout",
     "output_type": "stream",
     "text": [
      "0\n",
      "9\n"
     ]
    },
    {
     "data": {
      "image/png": "[encoded data removed]",
      "text/plain": [
       "<Figure size 432x288 with 1 Axes>"
      ]
     },
     "metadata": {
      "needs_background": "light"
     },
     "output_type": "display_data"
    }
   ],
   "source": [
    "for i in [0,9]:\n",
    "    print(i)\n",
    "    plt.hist(depthwise_1020[i], bins=30, label=f'channel {i}')\n",
    "    # set x lim\n",
    "    # legend\n",
    "    plt.legend()\n",
    "    plt.xlim(0, 0.7)\n",
    "    plt.ylim(0, 2200)\n",
    "    # plt.hist(depthwise_cafo_1042[i], bins=100, alpha=0.5, label=f'channel {i}', color='b')\n",
    "    # plt.show()"
   ]
  },
  {
   "cell_type": "code",
   "execution_count": 14,
   "metadata": {},
   "outputs": [
    {
     "data": {
      "image/png": "[encoded data removed]",
      "text/plain": [
       "<Figure size 432x288 with 1 Axes>"
      ]
     },
     "metadata": {
      "needs_background": "light"
     },
     "output_type": "display_data"
    }
   ],
   "source": [
    "for i in [0,9]:\n",
    "    plt.hist(depthwise_cafo_1042[i], bins=30, label=f'channel {i}')\n",
    "    plt.legend()\n",
    "    plt.xlim(0, 0.7)\n",
    "    plt.ylim(0, 2200)\n",
    "    # plt.hist(depthwise_cafo_1042[i], bins=100, alpha=0.5, label=f'channel {i}', color='b')\n",
    "    # plt.show()"
   ]
  },
  {
   "cell_type": "code",
   "execution_count": 26,
   "metadata": {},
   "outputs": [
    {
     "data": {
      "image/png": "[encoded data removed]",
      "text/plain": [
       "<Figure size 360x288 with 2 Axes>"
      ]
     },
     "metadata": {
      "needs_background": "light"
     },
     "output_type": "display_data"
    }
   ],
   "source": [
    "fig, axes = plt.subplots(2, 1, figsize=(5, 4),\n",
    "                         sharex=True)\n",
    "fig.subplots_adjust(hspace=0.3)\n",
    "# show feature 0,9\n",
    "linewidth = 3.5\n",
    "axes[0].hist(depthwise_1020[0], bins=30, label=f'Feat {0}', color='#E28832')\n",
    "axes[0].hist(depthwise_1020[9], bins=30, label=f'Feat {9}', color='#14308B')\n",
    "\n",
    "barcolor = '#D92B2E'\n",
    "# place vertical line on the mean of each feature\n",
    "axes[0].axvline(depthwise_1020[0].mean(), color=barcolor, linestyle='--', linewidth=linewidth)\n",
    "axes[0].axvline(depthwise_1020[9].mean(), color=barcolor, linestyle='--', linewidth=linewidth, label='Mean')\n",
    "axes[0].legend(fontsize=15)\n",
    "# set axes title\n",
    "axes[0].set_title('Without QR Ortho', fontsize=20, fontweight='bold')\n",
    "\n",
    "axes[1].hist(depthwise_cafo_1042[0], bins=30, label=f'Feat {0}', color='#E28832')\n",
    "axes[1].hist(depthwise_cafo_1042[9], bins=30, label=f'Feat {9}', color='#14308B')\n",
    "axes[1].axvline(depthwise_cafo_1042[0].mean(), color=barcolor, linestyle='--', linewidth=linewidth)\n",
    "axes[1].axvline(depthwise_cafo_1042[9].mean(), color=barcolor, linestyle='--', linewidth=linewidth)\n",
    "axes[1].set_title('With QR Ortho', fontsize=20, fontweight='bold')\n",
    "\n",
    "axes[1].set_xlabel('Attention Score', fontsize=20)\n",
    "\n",
    "for i in range(2):\n",
    "    axes[i].set_xlim(0, 0.7)\n",
    "    axes[i].set_ylim(0, 2200)\n",
    "    \n",
    "    axes[i].set_xticks([0.0, 0.2, 0.4, 0.6], fontsize= 24)\n",
    "# plt.savefig('results/qr_separablity/attention_score_separability.png', dpi=300, bbox_inches='tight')"
   ]
  },
  {
   "cell_type": "code",
   "execution_count": 48,
   "metadata": {},
   "outputs": [
    {
     "data": {
      "image/png": "[encoded data removed]",
      "text/plain": [
       "<Figure size 648x180 with 2 Axes>"
      ]
     },
     "metadata": {
      "needs_background": "light"
     },
     "output_type": "display_data"
    }
   ],
   "source": [
    "fig, axes = plt.subplots(1, 2, figsize=(9, 2.5),\n",
    "                         sharey=True, sharex=True)\n",
    "# fig.subplots_adjust(wspace=0.3)\n",
    "# show feature 0,9\n",
    "linewidth = 3.5\n",
    "axes[0].hist(depthwise_1020[0], bins=30, label=f'Feat {0}', color='#E28832')\n",
    "axes[0].hist(depthwise_1020[9], bins=30, label=f'Feat {9}', color='#14308B')\n",
    "\n",
    "barcolor = '#D92B2E'\n",
    "# place vertical line on the mean of each feature\n",
    "axes[0].axvline(depthwise_1020[0].mean(), color=barcolor, linestyle='--', linewidth=linewidth)\n",
    "axes[0].axvline(depthwise_1020[9].mean(), color=barcolor, linestyle='--', linewidth=linewidth, label='Mean')\n",
    "axes[0].legend(fontsize=15)\n",
    "# set axes title\n",
    "axes[0].set_title('Without QR-Ortho', fontsize=20, fontweight='bold')\n",
    "axes[0].set_ylabel('Count', fontsize=18)\n",
    "\n",
    "\n",
    "axes[1].hist(depthwise_cafo_1042[0], bins=30, label=f'Feat {0}', color='#E28832')\n",
    "axes[1].hist(depthwise_cafo_1042[9], bins=30, label=f'Feat {9}', color='#14308B')\n",
    "axes[1].axvline(depthwise_cafo_1042[0].mean(), color=barcolor, linestyle='--', linewidth=linewidth)\n",
    "axes[1].axvline(depthwise_cafo_1042[9].mean(), color=barcolor, linestyle='--', linewidth=linewidth)\n",
    "axes[1].set_title('With QR-Ortho', fontsize=20, fontweight='bold')\n",
    "\n",
    "#fig.text(0.5, -0.05, 'Attention Score', ha='center', fontsize=20)\n",
    "\n",
    "for i in range(2):\n",
    "    axes[i].set_xlim(0, 0.7)\n",
    "    axes[i].set_ylim(0, 2200)\n",
    "    axes[i].tick_params(axis='x', labelsize=15)  # Adjust font size for x ticks\n",
    "    axes[i].tick_params(axis='y', labelsize=15)  #\n",
    "    axes[i].set_xticks([0.0, 0.2, 0.4, 0.6])\n",
    "    axes[i].set_xlabel('Attention Score', fontsize=18)\n",
    "\n",
    "plt.savefig('results/qr_separablity/attention_score_separability.png', dpi=300, bbox_inches='tight')"
   ]
  },
  {
   "cell_type": "code",
   "execution_count": null,
   "metadata": {},
   "outputs": [],
   "source": []
  }
 ],
 "metadata": {
  "kernelspec": {
   "display_name": "Python 3",
   "language": "python",
   "name": "python3"
  },
  "language_info": {
   "codemirror_mode": {
    "name": "ipython",
    "version": 3
   },
   "file_extension": ".py",
   "mimetype": "text/x-python",
   "name": "python",
   "nbconvert_exporter": "python",
   "pygments_lexer": "ipython3",
   "version": "3.9.13"
  },
  "orig_nbformat": 4
 },
 "nbformat": 4,
 "nbformat_minor": 2
}
