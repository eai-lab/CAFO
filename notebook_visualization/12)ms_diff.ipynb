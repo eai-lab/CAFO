{
 "cells": [
  {
   "cell_type": "code",
   "execution_count": 1,
   "metadata": {},
   "outputs": [],
   "source": [
    "import pandas as pd\n",
    "import numpy as np\n",
    "import os\n",
    "import glob\n",
    "import seaborn as sns\n",
    "import matplotlib.pyplot as plt\n",
    "import pickle"
   ]
  },
  {
   "cell_type": "code",
   "execution_count": 2,
   "metadata": {},
   "outputs": [],
   "source": [
    "import matplotlib.colors as mcolors\n",
    "\n",
    "\n",
    "def symmetrical_colormap(cmap_settings, new_name = None ):\n",
    "    ''' This function take a colormap and create a new one, as the concatenation of itself by a symmetrical fold.\n",
    "    '''\n",
    "    # get the colormap\n",
    "    cmap = plt.cm.get_cmap(*cmap_settings)\n",
    "    if not new_name:\n",
    "        new_name = \"sym_\"+cmap_settings[0]  # ex: 'sym_Blues'\n",
    "    \n",
    "    # this defined the roughness of the colormap, 128 fine\n",
    "    n= 128 \n",
    "    \n",
    "    # get the list of color from colormap\n",
    "    colors_r = cmap(np.linspace(0, 1, n))    # take the standard colormap # 'right-part'\n",
    "    colors_l = colors_r[::-1]                # take the first list of color and flip the order # \"left-part\"\n",
    "\n",
    "    # combine them and build a new colormap\n",
    "    colors = np.vstack((colors_l, colors_r))\n",
    "    mymap = mcolors.LinearSegmentedColormap.from_list(new_name, colors)\n",
    "\n",
    "    return mymap\n",
    "cmap_settings = ('inferno', None)  # provide int instead of None to \"discretize/bin\" the colormap\n",
    "mymap = symmetrical_colormap(cmap_settings= cmap_settings, new_name =None )"
   ]
  },
  {
   "cell_type": "code",
   "execution_count": 3,
   "metadata": {},
   "outputs": [],
   "source": [
    "# test_label = pd.read_csv('../outputs/microsoft_activity_new/EXP3000/cv0_test_label.csv')"
   ]
  },
  {
   "cell_type": "code",
   "execution_count": 4,
   "metadata": {},
   "outputs": [
    {
     "data": {
      "text/plain": [
       "{0: 'Bicep Curl',\n",
       " 3: 'Plank',\n",
       " 4: 'Pushups',\n",
       " 5: 'Squat',\n",
       " 7: 'Squat Jump',\n",
       " 8: 'Walk',\n",
       " 9: 'Walking lunge',\n",
       " 2: 'Jump Rope',\n",
       " 1: 'Biceps Curl (band)',\n",
       " 6: 'Squat (hands behind head)'}"
      ]
     },
     "execution_count": 4,
     "metadata": {},
     "output_type": "execute_result"
    }
   ],
   "source": [
    "# test_label_df = test_label.groupby('label').head(1)[['label','CLASS_LABEL']]\n",
    "# # set CLASS_LABEL as key and label as value\n",
    "# test_label_dict = dict(zip(test_label_df['CLASS_LABEL'],test_label_df['label']))\n",
    "test_label_dict = {0: 'Bicep Curl',\n",
    " 3: 'Plank',\n",
    " 4: 'Pushups',\n",
    " 5: 'Squat',\n",
    " 7: 'Squat Jump',\n",
    " 8: 'Walk',\n",
    " 9: 'Walking lunge',\n",
    " 2: 'Jump Rope',\n",
    " 1: 'Biceps Curl (band)',\n",
    " 6: 'Squat (hands behind head)'}\n",
    "test_label_dict"
   ]
  },
  {
   "cell_type": "code",
   "execution_count": 5,
   "metadata": {},
   "outputs": [],
   "source": [
    "# convert gilon_speed npy\n",
    "cv_num= 2\n",
    "speed_attention_csv = pd.read_csv(f'dataset/ms_activity/channel_attention_scores.csv')\n",
    "# speed_attention_csv = pd.read_csv(f'results/gilon_speed/channel_attention_scores.csv')\n",
    "# collceted from simplevit ->cv 3. \n",
    "\n",
    "y_true_unique = speed_attention_csv['y_true'].unique()\n",
    "channel_attention_dict = {}\n",
    "for y_true in y_true_unique:\n",
    "    y_true_wise_df = speed_attention_csv[speed_attention_csv['y_true'] == y_true]\n",
    "    # drop y_true, epoch\n",
    "    y_true_wise_df = y_true_wise_df.drop(['y_true', 'epoch'], axis=1)\n",
    "    channel_attention_dict[test_label_dict[y_true]] = y_true_wise_df.reset_index(drop=True)"
   ]
  },
  {
   "cell_type": "code",
   "execution_count": 6,
   "metadata": {},
   "outputs": [
    {
     "data": {
      "text/plain": [
       "dict_keys(['Bicep Curl', 'Biceps Curl (band)', 'Jump Rope', 'Plank', 'Pushups', 'Squat', 'Squat (hands behind head)', 'Squat Jump', 'Walk', 'Walking lunge'])"
      ]
     },
     "execution_count": 6,
     "metadata": {},
     "output_type": "execute_result"
    }
   ],
   "source": [
    "channel_attention_dict.keys()"
   ]
  },
  {
   "cell_type": "code",
   "execution_count": 7,
   "metadata": {},
   "outputs": [
    {
     "name": "stdout",
     "output_type": "stream",
     "text": [
      "Bicep Curl Bicep Curl\n",
      "Bicep Curl Biceps Curl (band)\n",
      "Bicep Curl Jump Rope\n",
      "Bicep Curl Plank\n",
      "Bicep Curl Pushups\n",
      "Bicep Curl Squat\n",
      "Bicep Curl Squat (hands behind head)\n",
      "Bicep Curl Squat Jump\n",
      "Bicep Curl Walk\n",
      "Bicep Curl Walking lunge\n",
      "Biceps Curl (band) Bicep Curl\n",
      "Biceps Curl (band) Biceps Curl (band)\n",
      "Biceps Curl (band) Jump Rope\n",
      "Biceps Curl (band) Plank\n",
      "Biceps Curl (band) Pushups\n",
      "Biceps Curl (band) Squat\n",
      "Biceps Curl (band) Squat (hands behind head)\n",
      "Biceps Curl (band) Squat Jump\n",
      "Biceps Curl (band) Walk\n",
      "Biceps Curl (band) Walking lunge\n",
      "Jump Rope Bicep Curl\n",
      "Jump Rope Biceps Curl (band)\n",
      "Jump Rope Jump Rope\n",
      "Jump Rope Plank\n",
      "Jump Rope Pushups\n",
      "Jump Rope Squat\n",
      "Jump Rope Squat (hands behind head)\n",
      "Jump Rope Squat Jump\n",
      "Jump Rope Walk\n",
      "Jump Rope Walking lunge\n",
      "Plank Bicep Curl\n",
      "Plank Biceps Curl (band)\n",
      "Plank Jump Rope\n",
      "Plank Plank\n",
      "Plank Pushups\n",
      "Plank Squat\n",
      "Plank Squat (hands behind head)\n",
      "Plank Squat Jump\n",
      "Plank Walk\n",
      "Plank Walking lunge\n",
      "Pushups Bicep Curl\n",
      "Pushups Biceps Curl (band)\n",
      "Pushups Jump Rope\n",
      "Pushups Plank\n",
      "Pushups Pushups\n",
      "Pushups Squat\n",
      "Pushups Squat (hands behind head)\n",
      "Pushups Squat Jump\n",
      "Pushups Walk\n",
      "Pushups Walking lunge\n",
      "Squat Bicep Curl\n",
      "Squat Biceps Curl (band)\n",
      "Squat Jump Rope\n",
      "Squat Plank\n",
      "Squat Pushups\n",
      "Squat Squat\n",
      "Squat Squat (hands behind head)\n",
      "Squat Squat Jump\n",
      "Squat Walk\n",
      "Squat Walking lunge\n",
      "Squat (hands behind head) Bicep Curl\n",
      "Squat (hands behind head) Biceps Curl (band)\n",
      "Squat (hands behind head) Jump Rope\n",
      "Squat (hands behind head) Plank\n",
      "Squat (hands behind head) Pushups\n",
      "Squat (hands behind head) Squat\n",
      "Squat (hands behind head) Squat (hands behind head)\n",
      "Squat (hands behind head) Squat Jump\n",
      "Squat (hands behind head) Walk\n",
      "Squat (hands behind head) Walking lunge\n",
      "Squat Jump Bicep Curl\n",
      "Squat Jump Biceps Curl (band)\n",
      "Squat Jump Jump Rope\n",
      "Squat Jump Plank\n",
      "Squat Jump Pushups\n",
      "Squat Jump Squat\n",
      "Squat Jump Squat (hands behind head)\n",
      "Squat Jump Squat Jump\n",
      "Squat Jump Walk\n",
      "Squat Jump Walking lunge\n",
      "Walk Bicep Curl\n",
      "Walk Biceps Curl (band)\n",
      "Walk Jump Rope\n",
      "Walk Plank\n",
      "Walk Pushups\n",
      "Walk Squat\n",
      "Walk Squat (hands behind head)\n",
      "Walk Squat Jump\n",
      "Walk Walk\n",
      "Walk Walking lunge\n",
      "Walking lunge Bicep Curl\n",
      "Walking lunge Biceps Curl (band)\n",
      "Walking lunge Jump Rope\n",
      "Walking lunge Plank\n",
      "Walking lunge Pushups\n",
      "Walking lunge Squat\n",
      "Walking lunge Squat (hands behind head)\n",
      "Walking lunge Squat Jump\n",
      "Walking lunge Walk\n",
      "Walking lunge Walking lunge\n"
     ]
    }
   ],
   "source": [
    "channel_diff = {}\n",
    "# get all combinations of channel differences\n",
    "for i, i_key in enumerate(channel_attention_dict.keys()):\n",
    "    for j, j_key in enumerate(channel_attention_dict.keys()):\n",
    "        print(i_key, j_key)\n",
    "        channel_diff[f\"{i_key}-{j_key}\"] = channel_attention_dict[i_key] - channel_attention_dict[j_key]\n"
   ]
  },
  {
   "cell_type": "code",
   "execution_count": 8,
   "metadata": {},
   "outputs": [],
   "source": [
    "diff_bicep_curl = channel_attention_dict['Bicep Curl']-channel_attention_dict['Biceps Curl (band)']\n",
    "diff_bicep_squat = channel_attention_dict['Bicep Curl']-channel_attention_dict['Jump Rope']"
   ]
  },
  {
   "cell_type": "code",
   "execution_count": 10,
   "metadata": {},
   "outputs": [
    {
     "name": "stderr",
     "output_type": "stream",
     "text": [
      "/tmp/ipykernel_349733/1108465809.py:36: UserWarning: This figure was using constrained_layout, but that is incompatible with subplots_adjust and/or tight_layout; disabling constrained_layout.\n",
      "  fig.subplots_adjust(bottom=0.1, wspace=0.33)\n"
     ]
    },
    {
     "data": {
      "image/png": "[encoded data removed]",
      "text/plain": [
       "<Figure size 1296x288 with 3 Axes>"
      ]
     },
     "metadata": {
      "needs_background": "light"
     },
     "output_type": "display_data"
    }
   ],
   "source": [
    "fig, axes = plt.subplots(1, 2, figsize=(18, 4),\n",
    "                         gridspec_kw={'wspace':0.1},\n",
    "                         constrained_layout=True, )\n",
    "abs_value = 0.03\n",
    "# set title for all subplots, set y tick labels false for all but the first\n",
    "#fig.suptitle('Channel Attention Score Difference with Biceps Curl', fontsize=20, fontweight='bold', y=1.1, x=0.46)\n",
    "sns.heatmap(diff_bicep_curl, ax=axes[0], cmap=mymap, cbar=False, vmin=-abs_value, vmax=abs_value)\n",
    "# place spacing between title and subplot\n",
    "axes[0].set_title('Biceps Curl (band)', fontsize=16,  pad=10)\n",
    "# set y tick labels np.arange(0, 10, 2)\n",
    "\n",
    "\n",
    "sns.heatmap(diff_bicep_squat, ax=axes[1], cmap=mymap, cbar=False, vmin=-abs_value, vmax=abs_value)\n",
    "axes[1].set_title('Jump Rope', fontsize=16,  pad=10)\n",
    "\n",
    "for i in range(2):\n",
    "    # remove xticklabels\n",
    "    axes[i].set_xticklabels([])\n",
    "    # remove yticklabels\n",
    "    axes[i].set_yticklabels([])\n",
    "    # remove xticks\n",
    "    axes[i].set_xticks([])\n",
    "    # remove yticks\n",
    "    axes[i].set_yticks([])\n",
    "    # place red vertical line at 3\n",
    "    trans = axes[i].get_xaxis_transform()\n",
    "    axes[i].plot([0.3,2.8],[-0.015,-0.015], color=\"red\", transform=trans, clip_on=False, linewidth=8)\n",
    "    axes[i].plot([3.1,5.8],[-0.015,-0.015], color=\"blue\", transform=trans, clip_on=False, linewidth=8)\n",
    "    # axes[i].plot([6.2,10.1],[-0.011,-0.011], color=\"green\", transform=trans, clip_on=False, linewidth=8)\n",
    "    # axes[i].plot([10.2,13.6],[-0.011,-0.011], color=\"#F09436\", transform=trans, clip_on=False, linewidth=8)\n",
    "    axes[i].axvline(x=3, color='w', linestyle='--', linewidth=1)\n",
    "    axes[i].axvline(x=5.9, color='w', linestyle='--', linewidth=1)\n",
    "\n",
    "    \n",
    "# create legends for the axvlines \n",
    "fig.subplots_adjust(bottom=0.1, wspace=0.33)\n",
    "axes[0].legend(['Accelerometer', 'Gyroscope'], fontsize=14,loc='upper center', \n",
    "             bbox_to_anchor=(1.2, -0.1),fancybox=False, shadow=False, ncol=4)\n",
    "leg = axes[0].get_legend()\n",
    "for line in leg.get_lines():\n",
    "    line.set_linewidth(5.0)\n",
    "# # set y ticks\n",
    "axes[0].set_yticks(np.arange(0, 30, 5))\n",
    "# set y tick label for the first axes\n",
    "axes[0].set_yticklabels(np.arange(0, 30, 5), fontsize=14)\n",
    "# set y label\n",
    "axes[0].set_ylabel('Epoch', fontsize=16, fontweight='bold', labelpad=10)\n",
    "\n",
    "cbar = fig.colorbar(axes[1].collections[0], ax=axes,location='right', shrink=1,\n",
    "             label='', ticks=[-abs_value, 0, abs_value])\n",
    "# # set cbar label fontsize\n",
    "\n",
    "# # set yticklabels and large font size\n",
    "cbar.ax.set_yticklabels(['different', 'similar', 'different'], fontsize=16)\n",
    "\n",
    "# # save\n",
    "plt.savefig('results/ms_activity/channel_attention_score_msactivity_difference.png', dpi=300, bbox_inches='tight')"
   ]
  },
  {
   "cell_type": "code",
   "execution_count": null,
   "metadata": {},
   "outputs": [],
   "source": []
  }
 ],
 "metadata": {
  "kernelspec": {
   "display_name": "Python 3",
   "language": "python",
   "name": "python3"
  },
  "language_info": {
   "codemirror_mode": {
    "name": "ipython",
    "version": 3
   },
   "file_extension": ".py",
   "mimetype": "text/x-python",
   "name": "python",
   "nbconvert_exporter": "python",
   "pygments_lexer": "ipython3",
   "version": "3.9.13"
  },
  "orig_nbformat": 4
 },
 "nbformat": 4,
 "nbformat_minor": 2
}
