{
 "cells": [
  {
   "cell_type": "code",
   "execution_count": 1,
   "metadata": {},
   "outputs": [],
   "source": [
    "import pandas as pd \n",
    "import numpy as np\n",
    "import seaborn as sns\n",
    "import matplotlib.pyplot as plt \n",
    "import os \n",
    "import glob\n",
    "import pickle\n"
   ]
  },
  {
   "cell_type": "code",
   "execution_count": 2,
   "metadata": {},
   "outputs": [],
   "source": [
    "# convert gilon_speed npy\n",
    "cv_num= 3\n",
    "# speed_attention_csv = pd.read_csv(f'../outputs/gilon_speed/EXP2700/cv3/channel_attention_scores.csv')\n",
    "speed_attention_csv = pd.read_csv(f'results/gilon_speed/channel_attention_scores.csv')\n",
    "# collceted from simplevit ->cv 3. \n",
    "speed_attention_csv\n",
    "\n",
    "y_true_unique = speed_attention_csv['y_true'].unique()\n",
    "speed_regression_channel_attention_scores = {}\n",
    "for y_true in y_true_unique:\n",
    "    y_true_wise_df = speed_attention_csv[speed_attention_csv['y_true'] == y_true]\n",
    "    # drop y_true, epoch\n",
    "    y_true_wise_df = y_true_wise_df.drop(['y_true', 'epoch'], axis=1)\n",
    "    speed_regression_channel_attention_scores[y_true] = y_true_wise_df.reset_index(drop=True)"
   ]
  },
  {
   "cell_type": "code",
   "execution_count": 3,
   "metadata": {},
   "outputs": [],
   "source": [
    "import matplotlib.colors as mcolors\n",
    "\n",
    "\n",
    "def symmetrical_colormap(cmap_settings, new_name = None ):\n",
    "    ''' This function take a colormap and create a new one, as the concatenation of itself by a symmetrical fold.\n",
    "    '''\n",
    "    # get the colormap\n",
    "    cmap = plt.cm.get_cmap(*cmap_settings)\n",
    "    if not new_name:\n",
    "        new_name = \"sym_\"+cmap_settings[0]  # ex: 'sym_Blues'\n",
    "    \n",
    "    # this defined the roughness of the colormap, 128 fine\n",
    "    n= 128 \n",
    "    \n",
    "    # get the list of color from colormap\n",
    "    colors_r = cmap(np.linspace(0, 1, n))    # take the standard colormap # 'right-part'\n",
    "    colors_l = colors_r[::-1]                # take the first list of color and flip the order # \"left-part\"\n",
    "\n",
    "    # combine them and build a new colormap\n",
    "    colors = np.vstack((colors_l, colors_r))\n",
    "    mymap = mcolors.LinearSegmentedColormap.from_list(new_name, colors)\n",
    "\n",
    "    return mymap\n",
    "cmap_settings = ('inferno', None)  # provide int instead of None to \"discretize/bin\" the colormap\n",
    "mymap = symmetrical_colormap(cmap_settings= cmap_settings, new_name =None )"
   ]
  },
  {
   "cell_type": "code",
   "execution_count": 4,
   "metadata": {},
   "outputs": [],
   "source": [
    "# speed_regression_channel_attention_df = pd.read_csv('results/gilonspeed/channel_attention_scores.csv')\n",
    "# speed_regression_channel_attention_scores = {}\n",
    "# y_true_unique = list(speed_regression_channel_attention_df.y_true.unique())\n",
    "# for y_true in y_true_unique:\n",
    "#     # get average attention score for each y_true, drop the y_true column\n",
    "#     speed_regression_channel_attention_scores[y_true] = speed_regression_channel_attention_df[speed_regression_channel_attention_df.y_true == y_true]#.drop(columns=['y_true']).mean(axis=0)"
   ]
  },
  {
   "cell_type": "code",
   "execution_count": 5,
   "metadata": {},
   "outputs": [],
   "source": [
    "channel_diff = {}\n",
    "# get all combinations of channel differences\n",
    "for i in speed_regression_channel_attention_scores.keys():\n",
    "    for j in speed_regression_channel_attention_scores.keys():\n",
    "        channel_diff[(i,j)] = speed_regression_channel_attention_scores[i] - speed_regression_channel_attention_scores[j]\n"
   ]
  },
  {
   "cell_type": "code",
   "execution_count": 6,
   "metadata": {},
   "outputs": [
    {
     "data": {
      "text/plain": [
       "dict_keys([(0.0, 0.0), (0.0, 3.0), (0.0, 3.5), (0.0, 4.0), (0.0, 4.5), (0.0, 5.0), (0.0, 5.5), (0.0, 7.0), (0.0, 7.5), (0.0, 8.0), (3.0, 0.0), (3.0, 3.0), (3.0, 3.5), (3.0, 4.0), (3.0, 4.5), (3.0, 5.0), (3.0, 5.5), (3.0, 7.0), (3.0, 7.5), (3.0, 8.0), (3.5, 0.0), (3.5, 3.0), (3.5, 3.5), (3.5, 4.0), (3.5, 4.5), (3.5, 5.0), (3.5, 5.5), (3.5, 7.0), (3.5, 7.5), (3.5, 8.0), (4.0, 0.0), (4.0, 3.0), (4.0, 3.5), (4.0, 4.0), (4.0, 4.5), (4.0, 5.0), (4.0, 5.5), (4.0, 7.0), (4.0, 7.5), (4.0, 8.0), (4.5, 0.0), (4.5, 3.0), (4.5, 3.5), (4.5, 4.0), (4.5, 4.5), (4.5, 5.0), (4.5, 5.5), (4.5, 7.0), (4.5, 7.5), (4.5, 8.0), (5.0, 0.0), (5.0, 3.0), (5.0, 3.5), (5.0, 4.0), (5.0, 4.5), (5.0, 5.0), (5.0, 5.5), (5.0, 7.0), (5.0, 7.5), (5.0, 8.0), (5.5, 0.0), (5.5, 3.0), (5.5, 3.5), (5.5, 4.0), (5.5, 4.5), (5.5, 5.0), (5.5, 5.5), (5.5, 7.0), (5.5, 7.5), (5.5, 8.0), (7.0, 0.0), (7.0, 3.0), (7.0, 3.5), (7.0, 4.0), (7.0, 4.5), (7.0, 5.0), (7.0, 5.5), (7.0, 7.0), (7.0, 7.5), (7.0, 8.0), (7.5, 0.0), (7.5, 3.0), (7.5, 3.5), (7.5, 4.0), (7.5, 4.5), (7.5, 5.0), (7.5, 5.5), (7.5, 7.0), (7.5, 7.5), (7.5, 8.0), (8.0, 0.0), (8.0, 3.0), (8.0, 3.5), (8.0, 4.0), (8.0, 4.5), (8.0, 5.0), (8.0, 5.5), (8.0, 7.0), (8.0, 7.5), (8.0, 8.0)])"
      ]
     },
     "execution_count": 6,
     "metadata": {},
     "output_type": "execute_result"
    }
   ],
   "source": [
    "channel_diff.keys()"
   ]
  },
  {
   "cell_type": "code",
   "execution_count": 7,
   "metadata": {},
   "outputs": [],
   "source": [
    "# # fill 10 by 10 subplot with channel differences\n",
    "# fig, axs = plt.subplots(10, 10, figsize=(20, 20))\n",
    "# #fig.suptitle('Channel Attention Scores Difference in Gilon Speed Task', fontsize=24, y=1.05)\n",
    "# for i, i_key in enumerate(speed_regression_channel_attention_scores.keys()):\n",
    "#     for j,j_key in enumerate(speed_regression_channel_attention_scores.keys()):\n",
    "#         sns.heatmap(channel_diff[(i_key,j_key)], ax=axs[i,j], cmap=mymap, vmin=-0.06, vmax=0.06, cbar=False, xticklabels=False, yticklabels=False)\n",
    "#         axs[i,j].set_title(f'{i_key} - {j_key}', fontsize=14)\n",
    "#         axs[i,j].set_xlabel('')\n",
    "#         axs[i,j].set_yticks(np.arange(0, 30, 5))\n",
    "#         axs[i,j].set_yticklabels(np.arange(0, 30, 5), fontsize=12)\n",
    "#         axs[i,j].set_ylabel('Epochs', fontsize=14)\n",
    "#         if j !=0:\n",
    "#             axs[i,j].set_ylabel('')\n",
    "#             axs[i,j].set_yticks([])\n",
    "#         trans = axs[i,j].get_xaxis_transform()\n",
    "#         axs[i,j].plot([0.3,3.1],[-0.011,-0.011], color=\"red\", transform=trans, clip_on=False, linewidth=4)\n",
    "#         axs[i,j].plot([3.2,6.1],[-0.011,-0.011], color=\"blue\", transform=trans, clip_on=False, linewidth=4)\n",
    "#         axs[i,j].plot([6.2,10.1],[-0.011,-0.011], color=\"green\", transform=trans, clip_on=False, linewidth=4)\n",
    "#         axs[i,j].plot([10.2,13.6],[-0.011,-0.011], color=\"#F09436\", transform=trans, clip_on=False, linewidth=4)\n",
    "#         axs[i,j].axvline(x=2.8, color='w', linestyle='--', linewidth=1)\n",
    "#         axs[i,j].axvline(x=5.8, color='w', linestyle='--', linewidth=1)\n",
    "#         axs[i,j].axvline(x=9.8, color='w', linestyle='--', linewidth=1)\n",
    "#         axs[i,j].axvline(x=13.8, color='w', linestyle='--', linewidth=1)\n",
    "# fig.legend(['Accelerometer Right', 'Accelerometer Left', 'FSR Right', 'FSR Left'], loc='upper center', ncol=4, fontsize=20,\n",
    "#             bbox_to_anchor=(0.5, -0.005),fancybox=False, shadow=False)\n",
    "# plt.tight_layout()\n",
    "# plt.savefig('results/gilon_speed/channel_attention_score_difference_all.png', dpi=300, bbox_inches='tight')"
   ]
  },
  {
   "cell_type": "code",
   "execution_count": 8,
   "metadata": {},
   "outputs": [],
   "source": [
    "diff_3 = speed_regression_channel_attention_scores[0] - speed_regression_channel_attention_scores[3]\n",
    "diff_4 = speed_regression_channel_attention_scores[0] - speed_regression_channel_attention_scores[4]\n",
    "diff_5 = speed_regression_channel_attention_scores[0] - speed_regression_channel_attention_scores[5]\n",
    "diff_7 = speed_regression_channel_attention_scores[0] - speed_regression_channel_attention_scores[7]\n",
    "diff_8 = speed_regression_channel_attention_scores[0] - speed_regression_channel_attention_scores[8]"
   ]
  },
  {
   "cell_type": "code",
   "execution_count": 14,
   "metadata": {},
   "outputs": [
    {
     "name": "stderr",
     "output_type": "stream",
     "text": [
      "/tmp/ipykernel_349374/4018844449.py:47: UserWarning: This figure was using constrained_layout, but that is incompatible with subplots_adjust and/or tight_layout; disabling constrained_layout.\n",
      "  fig.subplots_adjust(bottom=0.1, wspace=0.33)\n"
     ]
    },
    {
     "data": {
      "image/png": "[encoded data removed]",
      "text/plain": [
       "<Figure size 1296x252 with 5 Axes>"
      ]
     },
     "metadata": {
      "needs_background": "light"
     },
     "output_type": "display_data"
    }
   ],
   "source": [
    "fig, axes = plt.subplots(1, 4, figsize=(18, 3.5),\n",
    "                         gridspec_kw={'wspace':0.1},\n",
    "                         constrained_layout=True, )\n",
    "abs_value = 0.06\n",
    "# set title for all subplots, set y tick labels false for all but the first\n",
    "#fig.suptitle('Channel Attention Score Difference with 0 Km/hr', fontsize=20, fontweight='bold', y=1.1, x=0.46)\n",
    "sns.heatmap(diff_3, ax=axes[0], cmap=mymap, cbar=False, vmin=-abs_value, vmax=abs_value)\n",
    "# place spacing between title and subplot\n",
    "axes[0].set_title('3 Km/hr', fontsize=16,  pad=10)\n",
    "# set y tick labels np.arange(0, 10, 2)\n",
    "\n",
    "\n",
    "sns.heatmap(diff_5, ax=axes[1], cmap=mymap, cbar=False, vmin=-abs_value, vmax=abs_value)\n",
    "axes[1].set_title('5 Km/hr', fontsize=16,  pad=10)\n",
    "sns.heatmap(diff_7, ax=axes[2], cmap=mymap, cbar=False, vmin=-abs_value, vmax=abs_value)\n",
    "axes[2].set_title('7 Km/hr', fontsize=16,  pad=10)\n",
    "sns.heatmap(diff_8, ax=axes[3], cmap=mymap, cbar=False, vmin=-abs_value, vmax=abs_value)\n",
    "axes[3].set_title('8 Km/hr', fontsize=16,  pad=10)\n",
    "# show colorbar next to axes[3], set its label and ticklabels, set ticklabels as [high, low, high]\n",
    "\n",
    "\n",
    "\n",
    "for i in range(4):\n",
    "    # remove xticklabels\n",
    "    axes[i].set_xticklabels([])\n",
    "    # remove yticklabels\n",
    "    axes[i].set_yticklabels([])\n",
    "    # remove xticks\n",
    "    axes[i].set_xticks([])\n",
    "    # remove yticks\n",
    "    axes[i].set_yticks([])\n",
    "    # place red vertical line at 3\n",
    "    trans = axes[i].get_xaxis_transform()\n",
    "    axes[i].plot([0.3,3.1],[-0.011,-0.011], color=\"red\", transform=trans, clip_on=False, linewidth=8)\n",
    "    axes[i].plot([3.2,6.1],[-0.011,-0.011], color=\"blue\", transform=trans, clip_on=False, linewidth=8)\n",
    "    axes[i].plot([6.2,10.1],[-0.011,-0.011], color=\"green\", transform=trans, clip_on=False, linewidth=8)\n",
    "    axes[i].plot([10.2,13.6],[-0.011,-0.011], color=\"#F09436\", transform=trans, clip_on=False, linewidth=8)\n",
    "    # axes[i].axhline(y=27, color='blue', linestyle='-', linewidth=8, xmin=3/14, xmax=6/14)\n",
    "    # axes[i].axhline(y=27, color='green', linestyle='-', linewidth=8, xmin=6/14, xmax=10/14)\n",
    "    # axes[i].axhline(y=27, color='#F09436', linestyle='-', linewidth=8, xmin=10/14, xmax=1)\n",
    "    axes[i].axvline(x=2.8, color='w', linestyle='--', linewidth=1)\n",
    "    axes[i].axvline(x=5.8, color='w', linestyle='--', linewidth=1)\n",
    "    axes[i].axvline(x=9.8, color='w', linestyle='--', linewidth=1)\n",
    "    axes[i].axvline(x=13.8, color='w', linestyle='--', linewidth=1)\n",
    "\n",
    "# create legends for the axvlines \n",
    "fig.subplots_adjust(bottom=0.1, wspace=0.33)\n",
    "axes[0].legend(['Accelerometer Right', 'Accelerometer Left', 'FSR Right', 'FSR Left'], fontsize=16,loc='upper center', \n",
    "             bbox_to_anchor=(2.2, -0.1),fancybox=False, shadow=False, ncol=4)\n",
    "leg = axes[0].get_legend()\n",
    "for line in leg.get_lines():\n",
    "    line.set_linewidth(5.0)\n",
    "# set y ticks\n",
    "axes[0].set_yticks(np.arange(0, 20, 5))\n",
    "# set y tick label for the first axes\n",
    "axes[0].set_yticklabels(np.arange(0, 20, 5), fontsize=14)\n",
    "# set y label\n",
    "axes[0].set_ylabel('Epoch', fontsize=16, fontweight='bold', labelpad=10)\n",
    "\n",
    "cbar = fig.colorbar(axes[3].collections[0], ax=axes,location='right', shrink=1,\n",
    "             label='', ticks=[-abs_value, 0, abs_value])\n",
    "# set cbar label fontsize\n",
    "\n",
    "# set yticklabels and large font size\n",
    "cbar.ax.set_yticklabels(['different', 'similar', 'different'], fontsize=16)\n",
    "\n",
    "# # save\n",
    "plt.savefig('results/gilon_speed/channel_attention_score_difference.png', dpi=300, bbox_inches='tight')"
   ]
  },
  {
   "cell_type": "code",
   "execution_count": null,
   "metadata": {},
   "outputs": [],
   "source": []
  },
  {
   "cell_type": "code",
   "execution_count": null,
   "metadata": {},
   "outputs": [],
   "source": []
  }
 ],
 "metadata": {
  "kernelspec": {
   "display_name": "Python 3",
   "language": "python",
   "name": "python3"
  },
  "language_info": {
   "codemirror_mode": {
    "name": "ipython",
    "version": 3
   },
   "file_extension": ".py",
   "mimetype": "text/x-python",
   "name": "python",
   "nbconvert_exporter": "python",
   "pygments_lexer": "ipython3",
   "version": "3.9.13"
  },
  "orig_nbformat": 4
 },
 "nbformat": 4,
 "nbformat_minor": 2
}
